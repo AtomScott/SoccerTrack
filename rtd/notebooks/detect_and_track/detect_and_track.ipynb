{
 "cells": [
  {
   "cell_type": "markdown",
   "metadata": {},
   "source": [
    "# Detect and Track Example"
   ]
  },
  {
   "cell_type": "markdown",
   "metadata": {},
   "source": [
    "This notebook demonstrates detecting and tracking objects in a video stream."
   ]
  },
  {
   "cell_type": "markdown",
   "metadata": {},
   "source": [
    "---"
   ]
  },
  {
   "cell_type": "markdown",
   "metadata": {},
   "source": [
    "## Preparation"
   ]
  },
  {
   "cell_type": "markdown",
   "metadata": {},
   "source": [
    "### Install dependencies"
   ]
  },
  {
   "cell_type": "markdown",
   "metadata": {},
   "source": [
    "First, we need to install & import the necessary packages."
   ]
  },
  {
   "cell_type": "code",
   "execution_count": 1,
   "metadata": {},
   "outputs": [],
   "source": [
    "!pip install --quiet -e ../../ # if you haven't installed soccertrack\n",
    "\n",
    "%load_ext autoreload\n",
    "%autoreload 2"
   ]
  },
  {
   "cell_type": "code",
   "execution_count": 2,
   "metadata": {},
   "outputs": [],
   "source": [
    "import os\n",
    "import sys\n",
    "\n",
    "import matplotlib.pyplot as plt\n",
    "import numpy as np\n",
    "\n",
    "from rich import inspect\n",
    "from soccertrack.detect import detect_objects\n",
    "from soccertrack.utils import cv2pil, load_config, write_config, merge_dict_of_lists\n",
    "from soccertrack.utils.camera import find_intrinsic_camera_parameters, load_cameras\n",
    "from soccertrack.utils.detection import CandidateDetection\n",
    "from soccertrack.viz import visualize_cameras, visualize_cameras_to_pitch"
   ]
  },
  {
   "cell_type": "markdown",
   "metadata": {},
   "source": [
    "### Create a yaml file"
   ]
  },
  {
   "cell_type": "markdown",
   "metadata": {},
   "source": [
    "SoccerTrack relies on one large configuration file to run. This file contains all the necessary information to run the perform detection and tracking. See the [detect_and_track.yaml](detect_and_track.yaml) file for an example. "
   ]
  },
  {
   "cell_type": "code",
   "execution_count": 3,
   "metadata": {},
   "outputs": [],
   "source": [
    "cfg = load_config('./detect_and_track.yaml')"
   ]
  },
  {
   "cell_type": "markdown",
   "metadata": {},
   "source": [
    "```python\n",
    ">>> inspect(cfg) \n",
    "╭──────────────────────── <class 'omegaconf.dictconfig.DictConfig'> ────────────────────────╮\n",
    "│ ╭───────────────────────────────────────────────────────────────────────────────────────╮ │\n",
    "│ │ {'cameras': [{'label': 'left', 'video_path': '../../data/raw/left_camera.mp4',        │ │\n",
    "│ │ 'keypoint_xml': '../../data/raw/left_keypoints.xml', 'calibration_video_path':        │ │\n",
    "│ │ '../../data/raw/left_checkerboard_images/', 'x_range': [0, 52.5], 'y_range': [0, 68], │ │\n",
    "│ │ 'camera_matrix': None, 'camera_matrix_path': None, 'distortion_coefficients': None,   │ │\n",
    "│ │ 'distortion_coefficients_path': None}, {'label': 'right', 'video_path':               │ │\n",
    "│ │ '../../data/raw/right_camera.mp4', 'keypoint_xml':                                    │ │\n",
    "│ │ '../../data/raw/right_keypoints.xml', 'calibration_video_path':                       │ │\n",
    "│ │ '../../data/raw/right_checkerboard_images/', 'x_range': [52.5, 105], 'y_range': [0,   │ │\n",
    "│ │ 68], 'camera_matrix': None, 'camera_matrix_path': None, 'distortion_coefficients':    │ │\n",
    "│ │ None, 'distortion_coefficients_path': None}], 'detection': {'model_name': 'yolov5x',  │ │\n",
    "│ │ 'size': 3000, 'batch_size': 32}, 'outdir': '../../data/processed/'}                   │ │\n",
    "│ ╰───────────────────────────────────────────────────────────────────────────────────────╯ │\n",
    "│                                                                                           │\n",
    "│   cameras = [{'label': 'left', 'video_path': '../../data/raw/left_camera.mp4',            │\n",
    "│             'keypoint_xml': '../../data/raw/left_keypoints.xml',                          │\n",
    "│             'calibration_video_path': '../../data/raw/left_checkerboard_images/',         │\n",
    "│             'x_range': [0, 52.5], 'y_range': [0, 68], 'camera_matrix': None,              │\n",
    "│             'camera_matrix_path': None, 'distortion_coefficients': None,                  │\n",
    "│             'distortion_coefficients_path': None}, {'label': 'right', 'video_path':       │\n",
    "│             '../../data/raw/right_camera.mp4', 'keypoint_xml':                            │\n",
    "│             '../../data/raw/right_keypoints.xml', 'calibration_video_path':               │\n",
    "│             '../../data/raw/right_checkerboard_images/', 'x_range': [52.5, 105],          │\n",
    "│             'y_range': [0, 68], 'camera_matrix': None, 'camera_matrix_path': None,        │\n",
    "│             'distortion_coefficients': None, 'distortion_coefficients_path': None}]       │\n",
    "│ detection = {'model_name': 'yolov5x', 'size': 3000, 'batch_size': 32}                     │\n",
    "│    outdir = '../../data/processed/'                                                       │\n",
    "╰───────────────────────────────────────────────────────────────────────────────────────────╯\n",
    "```"
   ]
  },
  {
   "cell_type": "markdown",
   "metadata": {},
   "source": [
    "## Camera setup"
   ]
  },
  {
   "cell_type": "markdown",
   "metadata": {},
   "source": [
    "SoccerTrack is designed to use either a single camera or multiple cameras. In this example we will use a two camera setup. \n",
    "\n",
    "For each camera the following information is required in the yaml file:\n",
    "\n",
    "* `label` - a unique label for the camera. Either `Left` or `Right` is used in this example.\n",
    "* `video_path` - The path to the video file.\n",
    "* `keypoint_xml` - The path to the xml file containing the keypoints.\n",
    "* `calibration_video_path` - The path to the video file used for calibration.\n",
    "* `x_range` - The x range of the camera.\n",
    "* `y_range` - The y range of the camera.\n",
    "* `camera_matrix` - The camera matrix of the camera.\n",
    "* `camera_matrix_path` - The path to the camera matrix file.\n",
    "* `distortion_coefficients` - The distortion coefficients of the camera.\n",
    "* `distortion_coefficients_path` - The path to the distortion coefficients file.\n",
    "\n",
    "\n",
    "Note that usually a multicamera setup can be used to drastically improve the performance of the tracking by methods such as triangulation. However, this is not implemented yet."
   ]
  },
  {
   "cell_type": "markdown",
   "metadata": {},
   "source": [
    "### Defining the camera ranges"
   ]
  },
  {
   "cell_type": "markdown",
   "metadata": {},
   "source": [
    "First, the range that each camera is resposible for handling detections for is defined. This is done by defining the x and y ranges in the yaml file.\n",
    "\n",
    "![](imgs/cam_area.png)\n",
    "\n",
    "In the example above, the `Blue Cam` is responsible for the x range from 0~52.5 and the `Red Cam` is responsible for the x range from 52.5~105. The y range is defined as the same, 0~68, for both cameras.\n",
    "\n",
    "In the yaml file this will be defined as:\n",
    "\n",
    "```yaml\n",
    "- label: Blue Cam\n",
    "  x_range:\n",
    "  - 0\n",
    "  - 52.5\n",
    "  y_range:\n",
    "  - 0\n",
    "  - 68\n",
    "\n",
    "- label: Red Cam\n",
    "  x_range:\n",
    "  - 52.5\n",
    "  - 105\n",
    "  y_range:\n",
    "  - 0\n",
    "  - 68\n",
    "\n",
    "```\n",
    "Although not at all perfect, this setup allows the number of cameras to be increased to multiple cameras or decresed to one wide angle camera."
   ]
  },
  {
   "cell_type": "markdown",
   "metadata": {},
   "source": [
    "### Camera calibration"
   ]
  },
  {
   "cell_type": "markdown",
   "metadata": {},
   "source": [
    "In order to reduce the distortion of the camera lense and straighten the lines of pitch, the camera is calibrated. This is done by using a video or a set of images containing a checkboard pattern from multiple angles.\n",
    "\n",
    "![](imgs/cam_calibration.png)\n",
    "\n",
    "Record a short video of the checkboard pattern and add the path to the yaml file."
   ]
  },
  {
   "cell_type": "markdown",
   "metadata": {},
   "source": [
    "### Homography Transformation"
   ]
  },
  {
   "cell_type": "markdown",
   "metadata": {},
   "source": [
    "TODO: This section needs its own notebook.\n",
    "\n",
    "![](imgs/cam_keypoints.png)"
   ]
  },
  {
   "cell_type": "markdown",
   "metadata": {},
   "source": [
    "### Load the camera objects"
   ]
  },
  {
   "cell_type": "markdown",
   "metadata": {},
   "source": [
    "Most of the information above (camera ranges, calibration, homography matrix etc.) is specific to the camera. Therefore it makes sense to create a `Camera` object to store this information. Below is an example of how to create a `Camera` object.\n",
    "\n",
    "For more detail on what the `Camera` object does, read the documentation of the `Camera` class."
   ]
  },
  {
   "cell_type": "code",
   "execution_count": 4,
   "metadata": {},
   "outputs": [
    {
     "data": {
      "application/vnd.jupyter.widget-view+json": {
       "model_id": "80324f9e7cf14dc99a3e946b4c946984",
       "version_major": 2,
       "version_minor": 0
      },
      "text/plain": [
       "  0%|          | 0/25 [00:00<?, ?it/s]"
      ]
     },
     "metadata": {},
     "output_type": "display_data"
    },
    {
     "data": {
      "application/vnd.jupyter.widget-view+json": {
       "model_id": "438d1a5e33f946e3922329225a73e38d",
       "version_major": 2,
       "version_minor": 0
      },
      "text/plain": [
       "  0%|          | 0/25 [00:00<?, ?it/s]"
      ]
     },
     "metadata": {},
     "output_type": "display_data"
    },
    {
     "name": "stdout",
     "output_type": "stream",
     "text": [
      "Loaded 2 cameras\n"
     ]
    }
   ],
   "source": [
    "cameras = load_cameras(cfg['cameras'])\n",
    "print(f\"Loaded {len(cameras)} cameras\")"
   ]
  },
  {
   "cell_type": "markdown",
   "metadata": {},
   "source": [
    "```python\n",
    ">>> inspect(cameras[0])\n",
    "╭──────────────────────── <class 'soccertrack.utils.camera.Camera'> ────────────────────────╮\n",
    "│ ╭───────────────────────────────────────────────────────────────────────────────────────╮ │\n",
    "│ │ <soccertrack.utils.camera.Camera object at 0x7fa4d4216a90>                            │ │\n",
    "│ ╰───────────────────────────────────────────────────────────────────────────────────────╯ │\n",
    "│                                                                                           │\n",
    "│                            A = array([[ 5.15339114e-02, -2.48630620e-03,                  │\n",
    "│                                -6.16015294e+01],                                          │\n",
    "│                                       [ 2.48630620e-03,  5.15339114e-02,                  │\n",
    "│                                -3.25664812e+01]])                                         │\n",
    "│                camera_matrix = array([[2.15613802e+03, 0.00000000e+00, 1.56562954e+03],   │\n",
    "│                                       [0.00000000e+00, 2.16032276e+03, 8.93321528e+02],   │\n",
    "│                                       [0.00000000e+00, 0.00000000e+00, 1.00000000e+00]])  │\n",
    "│           camera_matrix_path = '../../data/raw/left_checkerboard_images/.camera_matrix.n… │\n",
    "│      distortion_coefficients = array([[-3.86993200e-01,  1.81587334e-01,  3.38269313e-04, │\n",
    "│                                        -3.88791413e-03, -5.07126929e-02]])                │\n",
    "│ distortion_coefficients_path = '../../data/raw/left_checkerboard_images/.distortion_coef… │\n",
    "│                            H = array([[-1.96203042e-02, -8.58525820e-02,                  │\n",
    "│                                7.49647876e+01],                                           │\n",
    "│                                       [-7.00875850e-03, -1.43839641e-01,                  │\n",
    "│                                9.09678263e+01],                                           │\n",
    "│                                       [-1.68005463e-04, -1.70170553e-03,                  │\n",
    "│                                1.00000000e+00]])                                          │\n",
    "│                            h = 1728                                                       │\n",
    "│                 keypoint_map = {                                                          │\n",
    "│                                    (16.5, 0.0): array([1558.26162222,  555.72213685]),    │\n",
    "│                                    (49.5, 68.0): array([2052.63260037, 1145.72850178]),   │\n",
    "│                                    (22.0, 68.0): array([573.62124085, 906.77437939]),     │\n",
    "│                                    (0.0, 24.84): array([1110.73109074,  619.81784405]),   │\n",
    "│                                    (33.0, 68.0): array([938.49757603, 966.48531504]),     │\n",
    "│                                    (52.5, 0.0): array([2254.59956961,  523.43397107]),    │\n",
    "│                                    (16.5, 53.16): array([899.34001553, 746.46366605]),    │\n",
    "│                                    (16.5, 14.84): array([1462.75472983,  583.12588009]),  │\n",
    "│                                    (5.5, 0.0): array([1407.31178303,  563.57990178]),     │\n",
    "│                                    (0.0, 37.66): array([929.43635375, 660.83062687]),     │\n",
    "│                                    (11.0, 68.0): array([328.58590272, 867.16789754]),     │\n",
    "│                                    (0.0, 34.0): array([987.43317652, 648.36081735]),      │\n",
    "│                                    (5.5, 43.16): array([923.01686172, 681.50776995]),     │\n",
    "│                                    (44.0, 0.0): array([2055.2764852,  532.2939888]),      │\n",
    "│                                    (44.0, 68.0): array([1559.08634969, 1065.80217245]),   │\n",
    "│                                    (5.5, 24.84): array([1181.33105706,  618.10274965]),   │\n",
    "│                                    (0.0, 0.0): array([1339.90056291,  567.68426233]),     │\n",
    "│                                    (38.5, 0.0): array([1938.93543248,  538.0430888 ]),    │\n",
    "│                                    (0.0, 30.34): array([1038.72029834,  636.09482872]),   │\n",
    "│                                    (0.0, 53.16): array([604.76341502, 735.86943365]),     │\n",
    "│                                    (33.0, 0.0): array([1835.62452131,  544.03354279]),    │\n",
    "│                                    (52.5, 68.0): array([2431.72442695, 1206.94940776]),   │\n",
    "│                                    (0.0, 68.0): array([158.04929436, 838.95902402]),      │\n",
    "│                                    (38.5, 68.0): array([1201.58445867, 1009.34630455]),   │\n",
    "│                                    (49.5, 0.0): array([2177.025495  ,  527.01023073]),    │\n",
    "│                                    (27.5, 68.0): array([736.2702491 , 933.62312459]),     │\n",
    "│                                    (27.5, 0.0): array([1734.56353984,  548.81036346]),    │\n",
    "│                                    (16.5, 68.0): array([442.52805887, 884.849372  ]),     │\n",
    "│                                    (22.0, 0.0): array([1640.25520571,  552.80049224]),    │\n",
    "│                                    (52.5, 34.0): array([2281.94690316,  622.75123723]),   │\n",
    "│                                    (55.5, 0.0): array([2333.55841905,  519.20666754]),    │\n",
    "│                                    (52.5, 24.85): array([2271.68945831,  585.09609849]),  │\n",
    "│                                    (52.5, 43.15): array([2296.5896004 ,  682.93037444]),  │\n",
    "│                                    (0.0, 14.84): array([1224.9466838 ,  593.59923437]),   │\n",
    "│                                    (11.0, 0.0): array([1477.78286547,  561.11471057]),    │\n",
    "│                                    (5.5, 68.0): array([236.43958477, 852.09260608]),      │\n",
    "│                                    (0.0, 43.16): array([841.73876446, 681.52686758]),     │\n",
    "│                                    (61.0, 0.0): array([2489.25741953,  511.42404629])     │\n",
    "│                                }                                                          │\n",
    "│                        label = 'left'                                                     │\n",
    "│             source_keypoints = array([[1558.26162222,  555.72213685],                     │\n",
    "│                                       [2052.63260037, 1145.72850178],                     │\n",
    "│                                       [ 573.62124085,  906.77437939],                     │\n",
    "│                                       [1110.73109074,  619.81784405],                     │\n",
    "│                                       [ 938.49757603,  966.48531504],                     │\n",
    "│                                       [2254.59956961,  523.43397107],                     │\n",
    "│                                       [ 899.34001553,  746.46366605],                     │\n",
    "│                                       [1462.75472983,  583.12588009],                     │\n",
    "│                                       [1407.31178303,  563.57990178],                     │\n",
    "│                                       [ 929.43635375,  660.83062687],                     │\n",
    "│                                       [ 328.58590272,  867.16789754],                     │\n",
    "│                                       [ 987.43317652,  648.36081735],                     │\n",
    "│                                       [ 923.01686172,  681.50776995],                     │\n",
    "│                                       [2055.2764852 ,  532.2939888 ],                     │\n",
    "│                                       [1559.08634969, 1065.80217245],                     │\n",
    "│                                       [1181.33105706,  618.10274965],                     │\n",
    "│                                       [1339.90056291,  567.68426233],                     │\n",
    "│                                       [1938.93543248,  538.0430888 ],                     │\n",
    "│                                       [1038.72029834,  636.09482872],                     │\n",
    "│                                       [ 604.76341502,  735.86943365],                     │\n",
    "│                                       [1835.62452131,  544.03354279],                     │\n",
    "│                                       [2431.72442695, 1206.94940776],                     │\n",
    "│                                       [ 158.04929436,  838.95902402],                     │\n",
    "│                                       [1201.58445867, 1009.34630455],                     │\n",
    "│                                       [2177.025495  ,  527.01023073],                     │\n",
    "│                                       [ 736.2702491 ,  933.62312459],                     │\n",
    "│                                       [1734.56353984,  548.81036346],                     │\n",
    "│                                       [ 442.52805887,  884.849372  ],                     │\n",
    "│                                       [1640.25520571,  552.80049224],                     │\n",
    "│                                       [2281.94690316,  622.75123723],                     │\n",
    "│                                       [2333.55841905,  519.20666754],                     │\n",
    "│                                       [2271.68945831,  585.09609849],                     │\n",
    "│                                       [2296.5896004 ,  682.93037444],                     │\n",
    "│                                       [1224.9466838 ,  593.59923437],                     │\n",
    "│                                       [1477.78286547,  561.11471057],                     │\n",
    "│                                       [ 236.43958477,  852.09260608],                     │\n",
    "│                                       [ 841.73876446,  681.52686758],                     │\n",
    "│                                       [2489.25741953,  511.42404629]])                    │\n",
    "│             target_keypoints = array([[16.5 ,  0.  ],                                     │\n",
    "│                                       [49.5 , 68.  ],                                     │\n",
    "│                                       [22.  , 68.  ],                                     │\n",
    "│                                       [ 0.  , 24.84],                                     │\n",
    "│                                       [33.  , 68.  ],                                     │\n",
    "│                                       [52.5 ,  0.  ],                                     │\n",
    "│                                       [16.5 , 53.16],                                     │\n",
    "│                                       [16.5 , 14.84],                                     │\n",
    "│                                       [ 5.5 ,  0.  ],                                     │\n",
    "│                                       [ 0.  , 37.66],                                     │\n",
    "│                                       [11.  , 68.  ],                                     │\n",
    "│                                       [ 0.  , 34.  ],                                     │\n",
    "│                                       [ 5.5 , 43.16],                                     │\n",
    "│                                       [44.  ,  0.  ],                                     │\n",
    "│                                       [44.  , 68.  ],                                     │\n",
    "│                                       [ 5.5 , 24.84],                                     │\n",
    "│                                       [ 0.  ,  0.  ],                                     │\n",
    "│                                       [38.5 ,  0.  ],                                     │\n",
    "│                                       [ 0.  , 30.34],                                     │\n",
    "│                                       [ 0.  , 53.16],                                     │\n",
    "│                                       [33.  ,  0.  ],                                     │\n",
    "│                                       [52.5 , 68.  ],                                     │\n",
    "│                                       [ 0.  , 68.  ],                                     │\n",
    "│                                       [38.5 , 68.  ],                                     │\n",
    "│                                       [49.5 ,  0.  ],                                     │\n",
    "│                                       [27.5 , 68.  ],                                     │\n",
    "│                                       [27.5 ,  0.  ],                                     │\n",
    "│                                       [16.5 , 68.  ],                                     │\n",
    "│                                       [22.  ,  0.  ],                                     │\n",
    "│                                       [52.5 , 34.  ],                                     │\n",
    "│                                       [55.5 ,  0.  ],                                     │\n",
    "│                                       [52.5 , 24.85],                                     │\n",
    "│                                       [52.5 , 43.15],                                     │\n",
    "│                                       [ 0.  , 14.84],                                     │\n",
    "│                                       [11.  ,  0.  ],                                     │\n",
    "│                                       [ 5.5 , 68.  ],                                     │\n",
    "│                                       [ 0.  , 43.16],                                     │\n",
    "│                                       [61.  ,  0.  ]])                                    │\n",
    "│                    video_fps = 25                                                         │\n",
    "│                   video_path = '../../data/raw/left_camera.mp4'                           │\n",
    "│                            w = 3072                                                       │\n",
    "│                      x_range = [0, 52.5]                                                  │\n",
    "│                      y_range = [0, 68]                                                    │\n",
    "╰───────────────────────────────────────────────────────────────────────────────────────────╯\n",
    "```"
   ]
  },
  {
   "cell_type": "markdown",
   "metadata": {},
   "source": [
    "---"
   ]
  },
  {
   "cell_type": "markdown",
   "metadata": {},
   "source": [
    "## Detection"
   ]
  },
  {
   "cell_type": "markdown",
   "metadata": {},
   "source": [
    "### Detection with [YOLOv5](https://github.com/ultralytics/yolov5)"
   ]
  },
  {
   "cell_type": "markdown",
   "metadata": {},
   "source": [
    "Although any object detection model can be used, [YOLOv5](https://github.com/ultralytics/yolov5) is very is easy to perform training and inference.\n",
    "\n",
    "It is a state-of-the-art object detection model that is trained on the [COCO dataset](http://cocodataset.org/) and has been shown to achieve state-of-the-art results on COCO. \n",
    "\n",
    "In SoccerTrack, a wrapper is used to load the YOLOv5 model and perform detection. For more details, please refer to the documentation on `detect_objects`."
   ]
  },
  {
   "cell_type": "code",
   "execution_count": 5,
   "metadata": {},
   "outputs": [
    {
     "name": "stderr",
     "output_type": "stream",
     "text": [
      "Using cache found in /home/atom/.cache/torch/hub/ultralytics_yolov5_master\n",
      "YOLOv5 🚀 2021-12-28 torch 1.10.0+cu102 CUDA:0 (GeForce GTX 1080 Ti, 11178MiB)\n",
      "\n",
      "Fusing layers... \n",
      "Model Summary: 444 layers, 86705005 parameters, 0 gradients\n",
      "Adding AutoShape... \n"
     ]
    },
    {
     "data": {
      "application/vnd.jupyter.widget-view+json": {
       "model_id": "0860b76bf39b4570b7ad4fcd8d97fa25",
       "version_major": 2,
       "version_minor": 0
      },
      "text/plain": [
       "0it [00:00, ?it/s]"
      ]
     },
     "metadata": {},
     "output_type": "display_data"
    },
    {
     "data": {
      "application/vnd.jupyter.widget-view+json": {
       "model_id": "9cb1df3899a24866a1caffc31db9f664",
       "version_major": 2,
       "version_minor": 0
      },
      "text/plain": [
       "0it [00:00, ?it/s]"
      ]
     },
     "metadata": {},
     "output_type": "display_data"
    },
    {
     "name": "stdout",
     "output_type": "stream",
     "text": [
      "N ball detections: 175\n",
      "N player detections: 5206\n"
     ]
    }
   ],
   "source": [
    "# detection\n",
    "\"\"\"\n",
    "TODO: detection checklist\n",
    "    - return results as list of Detection Objects -> OK\n",
    "    - option to visualize detections? \n",
    "    - aggregate detections from multiple cameras? \n",
    "    - drop detections that are out of bounds -> OK\n",
    "    - Are detection results visualized and saved?\n",
    "\"\"\"\n",
    "player_detections, ball_detections = detect_objects(\n",
    "    cameras,\n",
    "    model_name=cfg.detection.model_name,\n",
    "    size=cfg.detection.size,\n",
    "    batch_size=cfg.detection.batch_size,\n",
    "    filter_range=cfg.detection.filter_range,\n",
    ")\n",
    "\n",
    "all_candidate_detections = merge_dict_of_lists(ball_detections, player_detections)\n",
    "\n",
    "print(\"N ball detections:\", sum(len(x) for x in ball_detections.values()))\n",
    "print(\"N player detections:\", sum(len(x) for x in player_detections.values()))"
   ]
  },
  {
   "cell_type": "markdown",
   "metadata": {},
   "source": [
    "### Visualize detections"
   ]
  },
  {
   "cell_type": "markdown",
   "metadata": {},
   "source": [
    "SoccerTrack provides a few tools for visualization. In this example we will use the `visualize_detections` to visualize the detections in a clean grid. "
   ]
  },
  {
   "cell_type": "code",
   "execution_count": 36,
   "metadata": {},
   "outputs": [
    {
     "name": "stdout",
     "output_type": "stream",
     "text": [
      "\u001b[36m\u001b[1mvisualize_cameras:51\u001b[0m\u001b[36m\t💬\u001b[0m| Visualizing camera left\n",
      "\u001b[36m\u001b[1mvisualize_cameras:51\u001b[0m\u001b[36m\t💬\u001b[0m| Visualizing camera right\n",
      "\u001b[36m\u001b[1mvisualize_cameras:63\u001b[0m\u001b[36m\t💬\u001b[0m| Auto-generating video of shape 1x2\n",
      "\u001b[36m\u001b[1mvisualize_cameras:98\u001b[0m\u001b[36m\t💬\u001b[0m| Saving video to ../../data/processed/grid.mp4\n"
     ]
    }
   ],
   "source": [
    "from soccertrack.utils import set_log_level\n",
    "from IPython.display import Video, display\n",
    "\n",
    "set_log_level(\"INFO\")\n",
    "\n",
    "visualize_cameras(\n",
    "    cameras=cameras,\n",
    "    save_dir=cfg.outdir,\n",
    "    candidate_detections=all_candidate_detections,\n",
    "    auto_grid=True,\n",
    "    height=200\n",
    ")\n",
    "\n",
    "# See the link below for the outputs\n",
    "# https://github.com/AtomScott/SoccerTrack/tree/main/data/processed\n",
    "\n",
    "# Video(os.path.join(cfg.outdir, \"grid.mp4\"))"
   ]
  },
  {
   "cell_type": "code",
   "execution_count": 67,
   "metadata": {},
   "outputs": [
    {
     "data": {
      "text/html": [
       "<video src=\"../../data/processed/pitch.mp4\" controls  >\n",
       "      Your browser does not support the <code>video</code> element.\n",
       "    </video>"
      ],
      "text/plain": [
       "<IPython.core.display.Video object>"
      ]
     },
     "execution_count": 67,
     "metadata": {},
     "output_type": "execute_result"
    }
   ],
   "source": [
    "%matplotlib inline\n",
    "\n",
    "visualize_cameras_to_pitch(\n",
    "    cameras=cameras,\n",
    "    save_path=os.path.join(cfg.outdir, \"pitch.mp4\"),\n",
    "    candidate_detections=all_candidate_detections,\n",
    "    height=200,\n",
    "    plot_keypoints = True,\n",
    ")\n",
    "\n",
    "# See the link below for the outputs\n",
    "# https://github.com/AtomScott/SoccerTrack/tree/main/data/processed\n",
    "\n",
    "# Video(os.path.join(cfg.outdir, \"pitch.mp4\"))"
   ]
  },
  {
   "cell_type": "markdown",
   "metadata": {},
   "source": [
    "## Ball Reconstruction"
   ]
  },
  {
   "cell_type": "markdown",
   "metadata": {},
   "source": [
    "before pitch reconstruction"
   ]
  },
  {
   "cell_type": "code",
   "execution_count": null,
   "metadata": {},
   "outputs": [
    {
     "data": {
      "image/png": "[encoded data removed]",
      "text/plain": [
       "<Figure size 432x288 with 1 Axes>"
      ]
     },
     "metadata": {},
     "output_type": "display_data"
    }
   ],
   "source": [
    "pitch = Pitch(pitch_color='black', line_color=(.3,.3,.3), pitch_type='custom', pitch_length=105, pitch_width=68) \n",
    "fig, ax = pitch.draw()\n",
    "xs, ys = get_xsys(ball_detections, cameras)\n",
    "plt.scatter(xs, ys, color='deeppink')\n",
    "plt.show()"
   ]
  },
  {
   "cell_type": "code",
   "execution_count": null,
   "metadata": {},
   "outputs": [
    {
     "data": {
      "image/png": "[encoded data removed]",
      "text/plain": [
       "<Figure size 432x288 with 1 Axes>"
      ]
     },
     "metadata": {},
     "output_type": "display_data"
    }
   ],
   "source": [
    "# ball trajectory reconstruction\n",
    "# filter ball where in_range is False\n",
    "ball_detections_ir = {k: [vi for vi in v if vi.in_range] for k,v in ball_detections.items()}\n",
    "\n",
    "# before pitch reconstruction\n",
    "pitch = Pitch(pitch_color='black', line_color=(.3,.3,.3), pitch_type='custom', pitch_length=105, pitch_width=68) \n",
    "fig, ax = pitch.draw()\n",
    "xs, ys = get_xsys(ball_detections_ir, cameras)\n",
    "plt.scatter(xs, ys, color='deeppink')\n",
    "plt.scatter(0,0, color='green')\n",
    "plt.scatter(105,68, color='yellow')\n",
    "\n",
    "plt.show()"
   ]
  },
  {
   "cell_type": "code",
   "execution_count": null,
   "metadata": {},
   "outputs": [
    {
     "data": {
      "text/plain": [
       "array([[     76.799,      57.867],\n",
       "       [     79.688,      60.495],\n",
       "       [     73.396,      57.882]])"
      ]
     },
     "execution_count": 18,
     "metadata": {},
     "output_type": "execute_result"
    }
   ],
   "source": [
    "from scipy.spatial.distance import cdist, euclidean\n",
    "from scipy.optimize import linear_sum_assignment\n",
    "\n",
    "from soccertrack.utils.tracking import Track\n",
    "from soccertrack.utils import logger\n",
    "\n",
    "def cost(X, Y, feature, func):\n",
    "    x_feature = getattr(X, '_feature_'+feature)\n",
    "    y_feature = getattr(Y, '_feature_'+feature)\n",
    "    return func(x_feature, y_feature)\n",
    "\n",
    "def cdist(detections, tracks, funcs, reduction='mean'):\n",
    "    \n",
    "    costs = []\n",
    "    for func in funcs:\n",
    "        C = np.zeros((len(detections), len(tracks)))\n",
    "\n",
    "        for di, detection in enumerate(detections):\n",
    "            for ti, track in enumerate(tracks):\n",
    "                C[di, ti] = cost(detection, track, feature='xy', func=func)\n",
    "        costs.append(C)\n",
    "            \n",
    "    if reduction == 'mean':\n",
    "        return np.mean(costs, axis=0)\n",
    "    else:\n",
    "        raise NotImplementedError(f\"reduction(`{reduction}`) not implemented\")\n",
    "\n",
    "detections = ball_detections[0]\n",
    "tracks = [Track(0,0), Track(32,14)]\n",
    "cdist(detections, tracks, funcs=[euclidean])"
   ]
  },
  {
   "cell_type": "code",
   "execution_count": null,
   "metadata": {},
   "outputs": [
    {
     "data": {
      "text/html": [
       "<pre style=\"white-space:pre;overflow-x:auto;line-height:normal;font-family:Menlo,'DejaVu Sans Mono',consolas,'Courier New',monospace\"><span style=\"color: #000080; text-decoration-color: #000080\">╭────── </span><span style=\"color: #000080; text-decoration-color: #000080; font-weight: bold\">&lt;</span><span style=\"color: #ff00ff; text-decoration-color: #ff00ff; font-weight: bold\">class</span><span style=\"color: #000000; text-decoration-color: #000000\"> </span><span style=\"color: #008000; text-decoration-color: #008000\">'int'</span><span style=\"color: #000080; text-decoration-color: #000080; font-weight: bold\">&gt;</span><span style=\"color: #000080; text-decoration-color: #000080\"> ───────╮</span>\n",
       "<span style=\"color: #000080; text-decoration-color: #000080\">│</span> <span style=\"color: #800080; text-decoration-color: #800080; font-weight: bold\">int</span><span style=\"color: #008080; text-decoration-color: #008080; font-weight: bold\">([</span><span style=\"color: #008080; text-decoration-color: #008080\">x</span><span style=\"color: #008080; text-decoration-color: #008080; font-weight: bold\">])</span><span style=\"color: #008080; text-decoration-color: #008080\"> -&gt; integer</span>        <span style=\"color: #000080; text-decoration-color: #000080\">│</span>\n",
       "<span style=\"color: #000080; text-decoration-color: #000080\">│</span> <span style=\"color: #800080; text-decoration-color: #800080; font-weight: bold\">int</span><span style=\"color: #008080; text-decoration-color: #008080; font-weight: bold\">(</span><span style=\"color: #008080; text-decoration-color: #008080\">x, </span><span style=\"color: #808000; text-decoration-color: #808000\">base</span><span style=\"color: #008080; text-decoration-color: #008080\">=</span><span style=\"color: #008080; text-decoration-color: #008080; font-weight: bold\">10</span><span style=\"color: #008080; text-decoration-color: #008080; font-weight: bold\">)</span><span style=\"color: #008080; text-decoration-color: #008080\"> -&gt; integer</span> <span style=\"color: #000080; text-decoration-color: #000080\">│</span>\n",
       "<span style=\"color: #000080; text-decoration-color: #000080\">│</span>                            <span style=\"color: #000080; text-decoration-color: #000080\">│</span>\n",
       "<span style=\"color: #000080; text-decoration-color: #000080\">│</span> <span style=\"color: #008000; text-decoration-color: #008000\">╭────────────────────────╮</span> <span style=\"color: #000080; text-decoration-color: #000080\">│</span>\n",
       "<span style=\"color: #000080; text-decoration-color: #000080\">│</span> <span style=\"color: #008000; text-decoration-color: #008000\">│</span> <span style=\"color: #008080; text-decoration-color: #008080; font-weight: bold\">32</span>                     <span style=\"color: #008000; text-decoration-color: #008000\">│</span> <span style=\"color: #000080; text-decoration-color: #000080\">│</span>\n",
       "<span style=\"color: #000080; text-decoration-color: #000080\">│</span> <span style=\"color: #008000; text-decoration-color: #008000\">╰────────────────────────╯</span> <span style=\"color: #000080; text-decoration-color: #000080\">│</span>\n",
       "<span style=\"color: #000080; text-decoration-color: #000080\">│</span>                            <span style=\"color: #000080; text-decoration-color: #000080\">│</span>\n",
       "<span style=\"color: #000080; text-decoration-color: #000080\">│</span> <span style=\"color: #808000; text-decoration-color: #808000; font-style: italic\">denominator</span> = <span style=\"color: #008080; text-decoration-color: #008080; font-weight: bold\">1</span>            <span style=\"color: #000080; text-decoration-color: #000080\">│</span>\n",
       "<span style=\"color: #000080; text-decoration-color: #000080\">│</span>        <span style=\"color: #808000; text-decoration-color: #808000; font-style: italic\">imag</span> = <span style=\"color: #008080; text-decoration-color: #008080; font-weight: bold\">0</span>            <span style=\"color: #000080; text-decoration-color: #000080\">│</span>\n",
       "<span style=\"color: #000080; text-decoration-color: #000080\">│</span>   <span style=\"color: #808000; text-decoration-color: #808000; font-style: italic\">numerator</span> = <span style=\"color: #008080; text-decoration-color: #008080; font-weight: bold\">32</span>           <span style=\"color: #000080; text-decoration-color: #000080\">│</span>\n",
       "<span style=\"color: #000080; text-decoration-color: #000080\">│</span>        <span style=\"color: #808000; text-decoration-color: #808000; font-style: italic\">real</span> = <span style=\"color: #008080; text-decoration-color: #008080; font-weight: bold\">32</span>           <span style=\"color: #000080; text-decoration-color: #000080\">│</span>\n",
       "<span style=\"color: #000080; text-decoration-color: #000080\">╰────────────────────────────╯</span>\n",
       "</pre>\n"
      ],
      "text/plain": [
       "\u001b[34m╭─\u001b[0m\u001b[34m───── \u001b[0m\u001b[1;34m<\u001b[0m\u001b[1;95mclass\u001b[0m\u001b[39m \u001b[0m\u001b[32m'int'\u001b[0m\u001b[1;34m>\u001b[0m\u001b[34m ──────\u001b[0m\u001b[34m─╮\u001b[0m\n",
       "\u001b[34m│\u001b[0m \u001b[1;35mint\u001b[0m\u001b[1;36m(\u001b[0m\u001b[1;36m[\u001b[0m\u001b[36mx\u001b[0m\u001b[1;36m]\u001b[0m\u001b[1;36m)\u001b[0m\u001b[36m -> integer\u001b[0m        \u001b[34m│\u001b[0m\n",
       "\u001b[34m│\u001b[0m \u001b[1;35mint\u001b[0m\u001b[1;36m(\u001b[0m\u001b[36mx, \u001b[0m\u001b[33mbase\u001b[0m\u001b[36m=\u001b[0m\u001b[1;36m10\u001b[0m\u001b[1;36m)\u001b[0m\u001b[36m -> integer\u001b[0m \u001b[34m│\u001b[0m\n",
       "\u001b[34m│\u001b[0m                            \u001b[34m│\u001b[0m\n",
       "\u001b[34m│\u001b[0m \u001b[32m╭────────────────────────╮\u001b[0m \u001b[34m│\u001b[0m\n",
       "\u001b[34m│\u001b[0m \u001b[32m│\u001b[0m \u001b[1;36m32\u001b[0m                     \u001b[32m│\u001b[0m \u001b[34m│\u001b[0m\n",
       "\u001b[34m│\u001b[0m \u001b[32m╰────────────────────────╯\u001b[0m \u001b[34m│\u001b[0m\n",
       "\u001b[34m│\u001b[0m                            \u001b[34m│\u001b[0m\n",
       "\u001b[34m│\u001b[0m \u001b[3;33mdenominator\u001b[0m = \u001b[1;36m1\u001b[0m            \u001b[34m│\u001b[0m\n",
       "\u001b[34m│\u001b[0m        \u001b[3;33mimag\u001b[0m = \u001b[1;36m0\u001b[0m            \u001b[34m│\u001b[0m\n",
       "\u001b[34m│\u001b[0m   \u001b[3;33mnumerator\u001b[0m = \u001b[1;36m32\u001b[0m           \u001b[34m│\u001b[0m\n",
       "\u001b[34m│\u001b[0m        \u001b[3;33mreal\u001b[0m = \u001b[1;36m32\u001b[0m           \u001b[34m│\u001b[0m\n",
       "\u001b[34m╰────────────────────────────╯\u001b[0m\n"
      ]
     },
     "metadata": {},
     "output_type": "display_data"
    }
   ],
   "source": [
    "inspect(detections[0]._class_id)"
   ]
  },
  {
   "cell_type": "code",
   "execution_count": null,
   "metadata": {},
   "outputs": [
    {
     "data": {
      "image/png": "[encoded data removed]",
      "text/plain": [
       "<Figure size 432x288 with 1 Axes>"
      ]
     },
     "metadata": {},
     "output_type": "display_data"
    }
   ],
   "source": [
    "import networkx as nx\n",
    "\n",
    "def calculate_weight(n1, n2):\n",
    "    return np.random.randint(1, 10, 1)\n",
    "\n",
    "\n",
    "# Generate Graph\n",
    "G = nx.DiGraph(capacity=1)\n",
    "\n",
    "timesteps = range(max(ball_detections.keys()))\n",
    "G.add_node('start', frame_idx=-1, class_id=-1)\n",
    "previous_nodes = ['start']\n",
    "\n",
    "min_detections = 1\n",
    "for timestep in timesteps:\n",
    "    next_nodes = []\n",
    "    detections = [detection for detection in ball_detections[timestep] if detection.in_range]\n",
    "\n",
    "    for di, detection in enumerate(detections):\n",
    "        assert detection.frame_idx == timestep, (detection.frame_idx, timestep)\n",
    "\n",
    "        node_id = f\"{detection.frame_idx}_{di}_{detection.camera.label}_{detection._class_id}\"\n",
    "        G.add_node(node_id, frame_idx=timestep, class_id = detection._class_id)\n",
    "        next_nodes.append(node_id)\n",
    "\n",
    "        for prev_node in previous_nodes:\n",
    "            G.add_edge(prev_node, node_id, weight=calculate_weight(G.nodes[prev_node], G.nodes[node_id]))\n",
    "\n",
    "    if len(detections) < min_detections:\n",
    "        for pi in range(min_detections - len(detections)):\n",
    "            node_id = f\"placeholder_{timestep}_{pi}\"\n",
    "            G.add_node(node_id, frame_idx=timestep, class_id = -1)\n",
    "            next_nodes.append(node_id)\n",
    "\n",
    "            for prev_node in previous_nodes:\n",
    "                G.add_edge(prev_node, node_id, weight=calculate_weight(G.nodes[prev_node], G.nodes[node_id]))\n",
    "    \n",
    "    previous_nodes = next_nodes\n",
    "    \n",
    "G.add_node('end', frame_idx=timestep+1, class_id=-1)\n",
    "for prev_node in previous_nodes:\n",
    "    G.add_edge(prev_node, 'end', weight=calculate_weight(G.nodes[prev_node], G.nodes[node_id]))\n",
    "\n",
    "\n",
    "pos = nx.multipartite_layout(G, subset_key='frame_idx')\n",
    "nx.draw(G, pos)\n",
    "\n",
    "flow_dict = nx.min_cost_flow(G)\n",
    "\n"
   ]
  },
  {
   "cell_type": "code",
   "execution_count": null,
   "metadata": {},
   "outputs": [
    {
     "ename": "IndexError",
     "evalue": "list index out of range",
     "output_type": "error",
     "traceback": [
      "\u001b[0;31m---------------------------------------------------------------------------\u001b[0m",
      "\u001b[0;31mIndexError\u001b[0m                                Traceback (most recent call last)",
      "\u001b[0;32m/tmp/ipykernel_19836/299354239.py\u001b[0m in \u001b[0;36m<module>\u001b[0;34m\u001b[0m\n\u001b[1;32m     20\u001b[0m     \u001b[0;32mfor\u001b[0m \u001b[0mdi\u001b[0m\u001b[0;34m,\u001b[0m \u001b[0mti\u001b[0m \u001b[0;32min\u001b[0m \u001b[0mzip\u001b[0m\u001b[0;34m(\u001b[0m\u001b[0mrow_ind\u001b[0m\u001b[0;34m,\u001b[0m \u001b[0mcol_ind\u001b[0m\u001b[0;34m)\u001b[0m\u001b[0;34m:\u001b[0m\u001b[0;34m\u001b[0m\u001b[0;34m\u001b[0m\u001b[0m\n\u001b[1;32m     21\u001b[0m         \u001b[0;32mif\u001b[0m \u001b[0mtimestep\u001b[0m \u001b[0;34m!=\u001b[0m \u001b[0;36m0\u001b[0m\u001b[0;34m:\u001b[0m\u001b[0;34m\u001b[0m\u001b[0;34m\u001b[0m\u001b[0m\n\u001b[0;32m---> 22\u001b[0;31m             \u001b[0mlogger\u001b[0m\u001b[0;34m.\u001b[0m\u001b[0mdebug\u001b[0m\u001b[0;34m(\u001b[0m\u001b[0;34mf\"{detections[di]._feature_xy} -> {tracks[ti].detections[-1]._feature_xy}\"\u001b[0m\u001b[0;34m)\u001b[0m\u001b[0;34m\u001b[0m\u001b[0;34m\u001b[0m\u001b[0m\n\u001b[0m\u001b[1;32m     23\u001b[0m         \u001b[0mtracks\u001b[0m\u001b[0;34m[\u001b[0m\u001b[0mti\u001b[0m\u001b[0;34m]\u001b[0m\u001b[0;34m.\u001b[0m\u001b[0mdetections\u001b[0m\u001b[0;34m.\u001b[0m\u001b[0mappend\u001b[0m\u001b[0;34m(\u001b[0m\u001b[0mdetections\u001b[0m\u001b[0;34m[\u001b[0m\u001b[0mdi\u001b[0m\u001b[0;34m]\u001b[0m\u001b[0;34m)\u001b[0m\u001b[0;34m\u001b[0m\u001b[0;34m\u001b[0m\u001b[0m\n",
      "\u001b[0;31mIndexError\u001b[0m: list index out of range"
     ]
    }
   ],
   "source": [
    "\n",
    "funcs=[euclidean]\n",
    "timesteps = list(ball_detections.keys())\n",
    "for timestep in timesteps:\n",
    "    detections = ball_detections[timestep]\n",
    "\n",
    "    # initialize trackers\n",
    "    if timestep == 0:\n",
    "        tracks = [Track(34) for _ in detections]\n",
    "\n",
    "    # generate cost matrix\n",
    "    cost_matrix = cdist(detections, tracks, funcs)\n",
    "\n",
    "    # calculate hungarian assignment\n",
    "    row_ind, col_ind = linear_sum_assignment(cost_matrix)\n",
    "\n",
    "    # update tracks\n",
    "    for di, ti in zip(row_ind, col_ind):\n",
    "        if timestep != 0:\n",
    "            logger.debug(f\"{detections[di]._feature_xy} -> {tracks[ti].detections[-1]._feature_xy}\")\n",
    "        tracks[ti].detections.append(detections[di])\n"
   ]
  },
  {
   "cell_type": "code",
   "execution_count": null,
   "metadata": {},
   "outputs": [
    {
     "data": {
      "text/plain": [
       "<matplotlib.collections.PathCollection at 0x7fe7706280d0>"
      ]
     },
     "execution_count": 102,
     "metadata": {},
     "output_type": "execute_result"
    },
    {
     "data": {
      "image/png": "[encoded data removed]",
      "text/plain": [
       "<Figure size 432x288 with 1 Axes>"
      ]
     },
     "metadata": {},
     "output_type": "display_data"
    }
   ],
   "source": [
    "# before pitch reconstruction\n",
    "pitch = Pitch(pitch_color='black', line_color=(.3,.3,.3), pitch_type='custom', pitch_length=105, pitch_width=68) \n",
    "fig, ax = pitch.draw()\n",
    "\n",
    "for track in tracks:\n",
    "    xs, ys = get_xsys(track.detections, cameras)\n",
    "    plt.scatter(xs, ys, color=np.random.rand(3,))\n",
    "\n",
    "plt.scatter(0,0, color='green')\n",
    "plt.scatter(105,68, color='yellow')"
   ]
  },
  {
   "cell_type": "code",
   "execution_count": null,
   "metadata": {},
   "outputs": [],
   "source": [
    "df = pd.concat(df_list) # necessary for restart\n",
    "df = df.sort_values('frame') \n",
    "\n",
    "# ball trajectory reconstruction\n",
    "xs, ys, ts = df[(df['name']=='sports ball') & (df['confidence']>=.5) & (df['drop']==False)][['x', 'y', 'frame']].values.T\n",
    "\n",
    "ts_range = range(int(ts[0]), int(ts[-1]+2))\n",
    "xs2 = [np.nan for _ in ts_range]\n",
    "ys2 = [np.nan for _ in ts_range]\n",
    "\n",
    "for i, _ in enumerate(ts):\n",
    "    xs2[int(ts[i])] = xs[i]\n",
    "    ys2[int(ts[i])] = ys[i]\n",
    "    \n",
    "xs = np.array(xs2)\n",
    "ys = np.array(ys2)\n",
    "\n",
    "for _ in range(3):\n",
    "    xs = fill_nan(xs)\n",
    "    ys = fill_nan(ys)\n",
    "    ds = np.sqrt(np.diff(xs, 1, append=xs[-1:]) ** 2 + np.diff(ys, 1, append=ys[-1:]) ** 2)\n",
    "    \n",
    "    xs = smooth(xs, 3)\n",
    "    ys = smooth(ys, 3)\n",
    "    ds = smooth(ds, 3)\n",
    "    xs[ds>1.] = np.nan\n",
    "    ys[ds>1.] = np.nan\n",
    "\n",
    "    xs = fill_nan(xs)\n",
    "    ys = fill_nan(ys)\n",
    "\n",
    "# try to update main dataframe\n",
    "for t in tqdm(ts_range):\n",
    "    if len(df.loc[(df['name']=='sports ball') & (df['drop']==False) & (df['frame']==t)]) == 0:\n",
    "        df = df.append([{\n",
    "            'name':'sports ball',\n",
    "            'drop':False,\n",
    "            'frame':t,\n",
    "            'x': xs[t],\n",
    "            'y': ys[t]\n",
    "        }])\n",
    "    else:\n",
    "        # dupes r fuk\n",
    "        df.loc[(df['name']=='sports ball') & (df['drop']==False) & (df['frame']==t), 'x'] = xs[t]\n",
    "        df.loc[(df['name']=='sports ball') & (df['drop']==False) & (df['frame']==t), 'y'] = ys[t]"
   ]
  },
  {
   "cell_type": "markdown",
   "metadata": {},
   "source": [
    "## Tracking"
   ]
  }
 ],
 "metadata": {
  "interpreter": {
   "hash": "47bcc98a91e0639070087bf2bbd0f353a7498108652c8107efb5221696e92166"
  },
  "kernelspec": {
   "display_name": "Python 3.8.12 64-bit ('base_atom': conda)",
   "language": "python",
   "name": "python3"
  },
  "language_info": {
   "codemirror_mode": {
    "name": "ipython",
    "version": 3
   },
   "file_extension": ".py",
   "mimetype": "text/x-python",
   "name": "python",
   "nbconvert_exporter": "python",
   "pygments_lexer": "ipython3",
   "version": "3.8.12"
  },
  "orig_nbformat": 4
 },
 "nbformat": 4,
 "nbformat_minor": 2
}
