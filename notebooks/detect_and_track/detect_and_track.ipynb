{
 "cells": [
  {
   "cell_type": "markdown",
   "metadata": {},
   "source": [
    "# Detect and Track Example"
   ]
  },
  {
   "cell_type": "markdown",
   "metadata": {},
   "source": [
    "This notebook demonstrates detecting and tracking objects in a video stream."
   ]
  },
  {
   "cell_type": "markdown",
   "metadata": {},
   "source": [
    "## Preparation"
   ]
  },
  {
   "cell_type": "markdown",
   "metadata": {},
   "source": [
    "First, we need to import the necessary packages."
   ]
  },
  {
   "cell_type": "code",
   "execution_count": 1,
   "metadata": {},
   "outputs": [],
   "source": [
    "!pip install --quiet -e ../../\n",
    "\n",
    "%load_ext autoreload\n",
    "%autoreload 2"
   ]
  },
  {
   "cell_type": "code",
   "execution_count": null,
   "metadata": {},
   "outputs": [],
   "source": [
    "## How to"
   ]
  },
  {
   "cell_type": "code",
   "execution_count": 2,
   "metadata": {},
   "outputs": [
    {
     "data": {
      "application/vnd.jupyter.widget-view+json": {
       "model_id": "2193ef1510904bc782267e8110e74c77",
       "version_major": 2,
       "version_minor": 0
      },
      "text/plain": [
       "  0%|          | 0/25 [00:00<?, ?it/s]"
      ]
     },
     "metadata": {},
     "output_type": "display_data"
    },
    {
     "data": {
      "application/vnd.jupyter.widget-view+json": {
       "model_id": "7a93c0b70a3642828283715f74feeed4",
       "version_major": 2,
       "version_minor": 0
      },
      "text/plain": [
       "  0%|          | 0/25 [00:00<?, ?it/s]"
      ]
     },
     "metadata": {},
     "output_type": "display_data"
    }
   ],
   "source": [
    "import os\n",
    "import sys\n",
    "\n",
    "import numpy as np\n",
    "from rich import print, inspect\n",
    "from soccertrack.utils import load_config, write_config\n",
    "from soccertrack.utils.camera import load_cameras, find_intrinsic_camera_parameters\n",
    "from soccertrack.detect import detect_objects\n",
    "from soccertrack.utils import cv2pil\n",
    "from soccertrack.utils.detection import CandidateDetection\n",
    "\n",
    "from mplsoccer import Pitch\n",
    "import matplotlib.pyplot as plt\n",
    "import numpy as np\n",
    "\n",
    "cfg = load_config('./detect_and_track.yaml')\n",
    "cameras = load_cameras(cfg['cameras'])"
   ]
  },
  {
   "cell_type": "code",
   "execution_count": 3,
   "metadata": {},
   "outputs": [
    {
     "name": "stderr",
     "output_type": "stream",
     "text": [
      "Using cache found in /home/atom/.cache/torch/hub/ultralytics_yolov5_master\n",
      "YOLOv5 🚀 2021-12-28 torch 1.10.0+cu102 CUDA:0 (GeForce GTX 1080 Ti, 11178MiB)\n",
      "\n",
      "Fusing layers... \n",
      "Model Summary: 290 layers, 21172173 parameters, 0 gradients\n",
      "Adding AutoShape... \n"
     ]
    },
    {
     "data": {
      "application/vnd.jupyter.widget-view+json": {
       "model_id": "9c0f8ee2273c42d6a608694a4bf34aec",
       "version_major": 2,
       "version_minor": 0
      },
      "text/plain": [
       "0it [00:00, ?it/s]"
      ]
     },
     "metadata": {},
     "output_type": "display_data"
    },
    {
     "data": {
      "application/vnd.jupyter.widget-view+json": {
       "model_id": "95b27b06d95948aa8bee774198abf56c",
       "version_major": 2,
       "version_minor": 0
      },
      "text/plain": [
       "0it [00:00, ?it/s]"
      ]
     },
     "metadata": {},
     "output_type": "display_data"
    },
    {
     "data": {
      "text/html": [
       "<pre style=\"white-space:pre;overflow-x:auto;line-height:normal;font-family:Menlo,'DejaVu Sans Mono',consolas,'Courier New',monospace\">N ball detections: <span style=\"color: #008080; text-decoration-color: #008080; font-weight: bold\">932</span>\n",
       "</pre>\n"
      ],
      "text/plain": [
       "N ball detections: \u001b[1;36m932\u001b[0m\n"
      ]
     },
     "metadata": {},
     "output_type": "display_data"
    },
    {
     "data": {
      "text/html": [
       "<pre style=\"white-space:pre;overflow-x:auto;line-height:normal;font-family:Menlo,'DejaVu Sans Mono',consolas,'Courier New',monospace\">N player detections: <span style=\"color: #008080; text-decoration-color: #008080; font-weight: bold\">8700</span>\n",
       "</pre>\n"
      ],
      "text/plain": [
       "N player detections: \u001b[1;36m8700\u001b[0m\n"
      ]
     },
     "metadata": {},
     "output_type": "display_data"
    }
   ],
   "source": [
    "# detection\n",
    "\"\"\"\n",
    "TODO: detection checklist\n",
    "    - return results as list of Detection Objects -> OK\n",
    "    - option to visualize detections? \n",
    "    - aggregate detections from multiple cameras? \n",
    "    - drop detections that are out of bounds -> OK\n",
    "    - Are detection results visualized and saved?\n",
    "\"\"\"\n",
    "player_detections, ball_detections = detect_objects(\n",
    "    cameras,\n",
    "    model_name='yolov5m',\n",
    "    size=1500,\n",
    "    batch_size=4,\n",
    "    filter_range=False\n",
    ")\n",
    "\n",
    "print(\"N ball detections:\", sum(len(x) for x in ball_detections.values()))\n",
    "print(\"N player detections:\", sum(len(x) for x in player_detections.values()))"
   ]
  },
  {
   "cell_type": "code",
   "execution_count": 4,
   "metadata": {},
   "outputs": [],
   "source": [
    "def merge_dict_of_lists(d1, d2):\n",
    "    ret = {k:list(v) for k,v in d1.items()}\n",
    "    for k, v in d1.items():\n",
    "        if k in d2.keys():\n",
    "            ret[k] += d2[k]\n",
    "        else:\n",
    "            ret[k] = d2[k]\n",
    "    return ret\n",
    "\n",
    "all_candidate_detection = merge_dict_of_lists(ball_detections, player_detections)"
   ]
  },
  {
   "cell_type": "code",
   "execution_count": 5,
   "metadata": {},
   "outputs": [
    {
     "data": {
      "application/vnd.jupyter.widget-view+json": {
       "model_id": "2bd0db3c707e4a2c87b57d21d8bf572d",
       "version_major": 2,
       "version_minor": 0
      },
      "text/plain": [
       "0it [00:00, ?it/s]"
      ]
     },
     "metadata": {},
     "output_type": "display_data"
    },
    {
     "data": {
      "application/vnd.jupyter.widget-view+json": {
       "model_id": "60ea3b3c8d824ebca0dd6d9c8b5b4d48",
       "version_major": 2,
       "version_minor": 0
      },
      "text/plain": [
       "  0%|          | 0/250 [00:00<?, ?it/s]"
      ]
     },
     "metadata": {},
     "output_type": "display_data"
    },
    {
     "data": {
      "text/html": [
       "<video src=\"../../data/processed/camera[0]-visualize_candidate_detections.mp4\" controls  width=\"600\" >\n",
       "      Your browser does not support the <code>video</code> element.\n",
       "    </video>"
      ],
      "text/plain": [
       "<IPython.core.display.Video object>"
      ]
     },
     "metadata": {},
     "output_type": "display_data"
    },
    {
     "data": {
      "application/vnd.jupyter.widget-view+json": {
       "model_id": "0259a5cd680546eb8ed199c6060629b6",
       "version_major": 2,
       "version_minor": 0
      },
      "text/plain": [
       "0it [00:00, ?it/s]"
      ]
     },
     "metadata": {},
     "output_type": "display_data"
    },
    {
     "data": {
      "application/vnd.jupyter.widget-view+json": {
       "model_id": "12a1eee26e8a4088b799885fdae39dee",
       "version_major": 2,
       "version_minor": 0
      },
      "text/plain": [
       "  0%|          | 0/250 [00:00<?, ?it/s]"
      ]
     },
     "metadata": {},
     "output_type": "display_data"
    },
    {
     "data": {
      "text/html": [
       "<video src=\"../../data/processed/camera[1]-visualize_candidate_detections.mp4\" controls  width=\"600\" >\n",
       "      Your browser does not support the <code>video</code> element.\n",
       "    </video>"
      ],
      "text/plain": [
       "<IPython.core.display.Video object>"
      ]
     },
     "metadata": {},
     "output_type": "display_data"
    }
   ],
   "source": [
    "from IPython.display import Video, display\n",
    "\n",
    "\n",
    "for i, camera in enumerate(cameras):\n",
    "    save_path = os.path.join(cfg.outdir, f'camera[{i}]-visualize_candidate_detections.mp4')\n",
    "    camera.visualize_candidate_detections(\n",
    "        candidate_detections=all_candidate_detection, \n",
    "        filter_range=False,\n",
    "        save_path=save_path\n",
    "        )\n",
    "    display(Video(save_path, width=600))\n"
   ]
  },
  {
   "cell_type": "code",
   "execution_count": 6,
   "metadata": {},
   "outputs": [
    {
     "data": {
      "image/png": "[encoded data removed]",
      "text/plain": [
       "<Figure size 432x288 with 1 Axes>"
      ]
     },
     "metadata": {},
     "output_type": "display_data"
    }
   ],
   "source": [
    "%matplotlib inline\n",
    "\n",
    "i=20\n",
    "\n",
    "xs,ys =[],[]\n",
    "for pd in player_detections[i]:\n",
    "    if pd.camera.label == cameras[0].label:\n",
    "        px, py = cameras[0].video2pitch(np.array([pd._x, pd._y])).squeeze()\n",
    "    elif pd.camera.label == cameras[1].label:\n",
    "        px, py = cameras[1].video2pitch(np.array([pd._x, pd._y])).squeeze()\n",
    "    else:\n",
    "        raise ValueError(\"camera label not found\")\n",
    "    xs.append(px)\n",
    "    ys.append(py)\n",
    "\n",
    "kxs,kys =[],[]\n",
    "for camera in cameras:\n",
    "    for x, y in camera.source_keypoints:\n",
    "        x, y = camera.video2pitch(np.array([x, y])).squeeze()\n",
    "        kxs.append(x)\n",
    "        kys.append(y)\n",
    "\n",
    "def get_xsys(detections, cameras):\n",
    "    if isinstance(detections, dict):\n",
    "        detections = list(detections.values())\n",
    "        \n",
    "    xs,ys =[],[]\n",
    "    for dets in detections:\n",
    "        if isinstance(dets, CandidateDetection):\n",
    "            dets = [dets]\n",
    "        for pd in dets:\n",
    "            if pd.camera.label == cameras[0].label:\n",
    "                px, py = cameras[0].video2pitch(np.array([pd._x, pd._y])).squeeze()\n",
    "            elif pd.camera.label == cameras[1].label:\n",
    "                px, py = cameras[1].video2pitch(np.array([pd._x, pd._y])).squeeze()\n",
    "            else:\n",
    "                raise ValueError(\"camera label not found\")\n",
    "            \n",
    "            assert px == pd.px, (px, pd.px)\n",
    "            assert py == pd.py, (py, pd.py)\n",
    "            xs.append(px)\n",
    "            ys.append(py)\n",
    "    return xs,ys\n",
    "\n",
    "pitch = Pitch(pitch_color='black', line_color=(.3,.3,.3), pitch_type='custom', pitch_length=105, pitch_width=68) \n",
    "fig, ax = pitch.draw()\n",
    "plt.scatter(xs, ys, color='deeppink')\n",
    "plt.scatter(kxs, kys, color='red')\n",
    "plt.scatter(0,0, color='green')\n",
    "plt.scatter(105,68, color='yellow')\n",
    "plt.show()"
   ]
  },
  {
   "cell_type": "code",
   "execution_count": 7,
   "metadata": {},
   "outputs": [
    {
     "data": {
      "image/png": "[encoded data removed]",
      "text/plain": [
       "<Figure size 432x288 with 1 Axes>"
      ]
     },
     "metadata": {},
     "output_type": "display_data"
    }
   ],
   "source": [
    "# before pitch reconstruction\n",
    "pitch = Pitch(pitch_color='black', line_color=(.3,.3,.3), pitch_type='custom', pitch_length=105, pitch_width=68) \n",
    "fig, ax = pitch.draw()\n",
    "xs, ys = get_xsys(ball_detections, cameras)\n",
    "plt.scatter(xs, ys, color='deeppink')\n",
    "plt.show()"
   ]
  },
  {
   "cell_type": "code",
   "execution_count": 8,
   "metadata": {},
   "outputs": [
    {
     "data": {
      "image/png": "[encoded data removed]",
      "text/plain": [
       "<Figure size 432x288 with 1 Axes>"
      ]
     },
     "metadata": {},
     "output_type": "display_data"
    }
   ],
   "source": [
    "# ball trajectory reconstruction\n",
    "# filter ball where in_range is False\n",
    "ball_detections_ir = {k: [vi for vi in v if vi.in_range] for k,v in ball_detections.items()}\n",
    "\n",
    "# before pitch reconstruction\n",
    "pitch = Pitch(pitch_color='black', line_color=(.3,.3,.3), pitch_type='custom', pitch_length=105, pitch_width=68) \n",
    "fig, ax = pitch.draw()\n",
    "xs, ys = get_xsys(ball_detections_ir, cameras)\n",
    "plt.scatter(xs, ys, color='deeppink')\n",
    "plt.scatter(0,0, color='green')\n",
    "plt.scatter(105,68, color='yellow')\n",
    "\n",
    "plt.show()"
   ]
  },
  {
   "cell_type": "code",
   "execution_count": 18,
   "metadata": {},
   "outputs": [
    {
     "data": {
      "text/plain": [
       "array([[     76.799,      57.867],\n",
       "       [     79.688,      60.495],\n",
       "       [     73.396,      57.882]])"
      ]
     },
     "execution_count": 18,
     "metadata": {},
     "output_type": "execute_result"
    }
   ],
   "source": [
    "from scipy.spatial.distance import cdist, euclidean\n",
    "from scipy.optimize import linear_sum_assignment\n",
    "\n",
    "from soccertrack.utils.tracking import Track\n",
    "from soccertrack.utils import logger\n",
    "\n",
    "def cost(X, Y, feature, func):\n",
    "    x_feature = getattr(X, '_feature_'+feature)\n",
    "    y_feature = getattr(Y, '_feature_'+feature)\n",
    "    return func(x_feature, y_feature)\n",
    "\n",
    "def cdist(detections, tracks, funcs, reduction='mean'):\n",
    "    \n",
    "    costs = []\n",
    "    for func in funcs:\n",
    "        C = np.zeros((len(detections), len(tracks)))\n",
    "\n",
    "        for di, detection in enumerate(detections):\n",
    "            for ti, track in enumerate(tracks):\n",
    "                C[di, ti] = cost(detection, track, feature='xy', func=func)\n",
    "        costs.append(C)\n",
    "            \n",
    "    if reduction == 'mean':\n",
    "        return np.mean(costs, axis=0)\n",
    "    else:\n",
    "        raise NotImplementedError(f\"reduction(`{reduction}`) not implemented\")\n",
    "\n",
    "detections = ball_detections[0]\n",
    "tracks = [Track(0,0), Track(32,14)]\n",
    "cdist(detections, tracks, funcs=[euclidean])"
   ]
  },
  {
   "cell_type": "code",
   "execution_count": 14,
   "metadata": {},
   "outputs": [
    {
     "data": {
      "text/html": [
       "<pre style=\"white-space:pre;overflow-x:auto;line-height:normal;font-family:Menlo,'DejaVu Sans Mono',consolas,'Courier New',monospace\"><span style=\"color: #000080; text-decoration-color: #000080\">╭────── </span><span style=\"color: #000080; text-decoration-color: #000080; font-weight: bold\">&lt;</span><span style=\"color: #ff00ff; text-decoration-color: #ff00ff; font-weight: bold\">class</span><span style=\"color: #000000; text-decoration-color: #000000\"> </span><span style=\"color: #008000; text-decoration-color: #008000\">'int'</span><span style=\"color: #000080; text-decoration-color: #000080; font-weight: bold\">&gt;</span><span style=\"color: #000080; text-decoration-color: #000080\"> ───────╮</span>\n",
       "<span style=\"color: #000080; text-decoration-color: #000080\">│</span> <span style=\"color: #800080; text-decoration-color: #800080; font-weight: bold\">int</span><span style=\"color: #008080; text-decoration-color: #008080; font-weight: bold\">([</span><span style=\"color: #008080; text-decoration-color: #008080\">x</span><span style=\"color: #008080; text-decoration-color: #008080; font-weight: bold\">])</span><span style=\"color: #008080; text-decoration-color: #008080\"> -&gt; integer</span>        <span style=\"color: #000080; text-decoration-color: #000080\">│</span>\n",
       "<span style=\"color: #000080; text-decoration-color: #000080\">│</span> <span style=\"color: #800080; text-decoration-color: #800080; font-weight: bold\">int</span><span style=\"color: #008080; text-decoration-color: #008080; font-weight: bold\">(</span><span style=\"color: #008080; text-decoration-color: #008080\">x, </span><span style=\"color: #808000; text-decoration-color: #808000\">base</span><span style=\"color: #008080; text-decoration-color: #008080\">=</span><span style=\"color: #008080; text-decoration-color: #008080; font-weight: bold\">10</span><span style=\"color: #008080; text-decoration-color: #008080; font-weight: bold\">)</span><span style=\"color: #008080; text-decoration-color: #008080\"> -&gt; integer</span> <span style=\"color: #000080; text-decoration-color: #000080\">│</span>\n",
       "<span style=\"color: #000080; text-decoration-color: #000080\">│</span>                            <span style=\"color: #000080; text-decoration-color: #000080\">│</span>\n",
       "<span style=\"color: #000080; text-decoration-color: #000080\">│</span> <span style=\"color: #008000; text-decoration-color: #008000\">╭────────────────────────╮</span> <span style=\"color: #000080; text-decoration-color: #000080\">│</span>\n",
       "<span style=\"color: #000080; text-decoration-color: #000080\">│</span> <span style=\"color: #008000; text-decoration-color: #008000\">│</span> <span style=\"color: #008080; text-decoration-color: #008080; font-weight: bold\">32</span>                     <span style=\"color: #008000; text-decoration-color: #008000\">│</span> <span style=\"color: #000080; text-decoration-color: #000080\">│</span>\n",
       "<span style=\"color: #000080; text-decoration-color: #000080\">│</span> <span style=\"color: #008000; text-decoration-color: #008000\">╰────────────────────────╯</span> <span style=\"color: #000080; text-decoration-color: #000080\">│</span>\n",
       "<span style=\"color: #000080; text-decoration-color: #000080\">│</span>                            <span style=\"color: #000080; text-decoration-color: #000080\">│</span>\n",
       "<span style=\"color: #000080; text-decoration-color: #000080\">│</span> <span style=\"color: #808000; text-decoration-color: #808000; font-style: italic\">denominator</span> = <span style=\"color: #008080; text-decoration-color: #008080; font-weight: bold\">1</span>            <span style=\"color: #000080; text-decoration-color: #000080\">│</span>\n",
       "<span style=\"color: #000080; text-decoration-color: #000080\">│</span>        <span style=\"color: #808000; text-decoration-color: #808000; font-style: italic\">imag</span> = <span style=\"color: #008080; text-decoration-color: #008080; font-weight: bold\">0</span>            <span style=\"color: #000080; text-decoration-color: #000080\">│</span>\n",
       "<span style=\"color: #000080; text-decoration-color: #000080\">│</span>   <span style=\"color: #808000; text-decoration-color: #808000; font-style: italic\">numerator</span> = <span style=\"color: #008080; text-decoration-color: #008080; font-weight: bold\">32</span>           <span style=\"color: #000080; text-decoration-color: #000080\">│</span>\n",
       "<span style=\"color: #000080; text-decoration-color: #000080\">│</span>        <span style=\"color: #808000; text-decoration-color: #808000; font-style: italic\">real</span> = <span style=\"color: #008080; text-decoration-color: #008080; font-weight: bold\">32</span>           <span style=\"color: #000080; text-decoration-color: #000080\">│</span>\n",
       "<span style=\"color: #000080; text-decoration-color: #000080\">╰────────────────────────────╯</span>\n",
       "</pre>\n"
      ],
      "text/plain": [
       "\u001b[34m╭─\u001b[0m\u001b[34m───── \u001b[0m\u001b[1;34m<\u001b[0m\u001b[1;95mclass\u001b[0m\u001b[39m \u001b[0m\u001b[32m'int'\u001b[0m\u001b[1;34m>\u001b[0m\u001b[34m ──────\u001b[0m\u001b[34m─╮\u001b[0m\n",
       "\u001b[34m│\u001b[0m \u001b[1;35mint\u001b[0m\u001b[1;36m(\u001b[0m\u001b[1;36m[\u001b[0m\u001b[36mx\u001b[0m\u001b[1;36m]\u001b[0m\u001b[1;36m)\u001b[0m\u001b[36m -> integer\u001b[0m        \u001b[34m│\u001b[0m\n",
       "\u001b[34m│\u001b[0m \u001b[1;35mint\u001b[0m\u001b[1;36m(\u001b[0m\u001b[36mx, \u001b[0m\u001b[33mbase\u001b[0m\u001b[36m=\u001b[0m\u001b[1;36m10\u001b[0m\u001b[1;36m)\u001b[0m\u001b[36m -> integer\u001b[0m \u001b[34m│\u001b[0m\n",
       "\u001b[34m│\u001b[0m                            \u001b[34m│\u001b[0m\n",
       "\u001b[34m│\u001b[0m \u001b[32m╭────────────────────────╮\u001b[0m \u001b[34m│\u001b[0m\n",
       "\u001b[34m│\u001b[0m \u001b[32m│\u001b[0m \u001b[1;36m32\u001b[0m                     \u001b[32m│\u001b[0m \u001b[34m│\u001b[0m\n",
       "\u001b[34m│\u001b[0m \u001b[32m╰────────────────────────╯\u001b[0m \u001b[34m│\u001b[0m\n",
       "\u001b[34m│\u001b[0m                            \u001b[34m│\u001b[0m\n",
       "\u001b[34m│\u001b[0m \u001b[3;33mdenominator\u001b[0m = \u001b[1;36m1\u001b[0m            \u001b[34m│\u001b[0m\n",
       "\u001b[34m│\u001b[0m        \u001b[3;33mimag\u001b[0m = \u001b[1;36m0\u001b[0m            \u001b[34m│\u001b[0m\n",
       "\u001b[34m│\u001b[0m   \u001b[3;33mnumerator\u001b[0m = \u001b[1;36m32\u001b[0m           \u001b[34m│\u001b[0m\n",
       "\u001b[34m│\u001b[0m        \u001b[3;33mreal\u001b[0m = \u001b[1;36m32\u001b[0m           \u001b[34m│\u001b[0m\n",
       "\u001b[34m╰────────────────────────────╯\u001b[0m\n"
      ]
     },
     "metadata": {},
     "output_type": "display_data"
    }
   ],
   "source": [
    "inspect(detections[0]._class_id)"
   ]
  },
  {
   "cell_type": "code",
   "execution_count": 68,
   "metadata": {},
   "outputs": [
    {
     "data": {
      "image/png": "[encoded data removed]",
      "text/plain": [
       "<Figure size 432x288 with 1 Axes>"
      ]
     },
     "metadata": {},
     "output_type": "display_data"
    }
   ],
   "source": [
    "import networkx as nx\n",
    "\n",
    "def calculate_weight(n1, n2):\n",
    "    return np.random.randint(1, 10, 1)\n",
    "\n",
    "\n",
    "# Generate Graph\n",
    "G = nx.DiGraph(capacity=1)\n",
    "\n",
    "timesteps = range(max(ball_detections.keys()))\n",
    "G.add_node('start', frame_idx=-1, class_id=-1)\n",
    "previous_nodes = ['start']\n",
    "\n",
    "min_detections = 1\n",
    "for timestep in timesteps:\n",
    "    next_nodes = []\n",
    "    detections = [detection for detection in ball_detections[timestep] if detection.in_range]\n",
    "\n",
    "    for di, detection in enumerate(detections):\n",
    "        assert detection.frame_idx == timestep, (detection.frame_idx, timestep)\n",
    "\n",
    "        node_id = f\"{detection.frame_idx}_{di}_{detection.camera.label}_{detection._class_id}\"\n",
    "        G.add_node(node_id, frame_idx=timestep, class_id = detection._class_id)\n",
    "        next_nodes.append(node_id)\n",
    "\n",
    "        for prev_node in previous_nodes:\n",
    "            G.add_edge(prev_node, node_id, weight=calculate_weight(G.nodes[prev_node], G.nodes[node_id]))\n",
    "\n",
    "    if len(detections) < min_detections:\n",
    "        for pi in range(min_detections - len(detections)):\n",
    "            node_id = f\"placeholder_{timestep}_{pi}\"\n",
    "            G.add_node(node_id, frame_idx=timestep, class_id = -1)\n",
    "            next_nodes.append(node_id)\n",
    "\n",
    "            for prev_node in previous_nodes:\n",
    "                G.add_edge(prev_node, node_id, weight=calculate_weight(G.nodes[prev_node], G.nodes[node_id]))\n",
    "    \n",
    "    previous_nodes = next_nodes\n",
    "    \n",
    "G.add_node('end', frame_idx=timestep+1, class_id=-1)\n",
    "for prev_node in previous_nodes:\n",
    "    G.add_edge(prev_node, 'end', weight=calculate_weight(G.nodes[prev_node], G.nodes[node_id]))\n",
    "\n",
    "\n",
    "pos = nx.multipartite_layout(G, subset_key='frame_idx')\n",
    "nx.draw(G, pos)\n",
    "\n",
    "flow_dict = nx.min_cost_flow(G)\n",
    "\n"
   ]
  },
  {
   "cell_type": "code",
   "execution_count": 103,
   "metadata": {},
   "outputs": [
    {
     "ename": "IndexError",
     "evalue": "list index out of range",
     "output_type": "error",
     "traceback": [
      "\u001b[0;31m---------------------------------------------------------------------------\u001b[0m",
      "\u001b[0;31mIndexError\u001b[0m                                Traceback (most recent call last)",
      "\u001b[0;32m/tmp/ipykernel_19836/299354239.py\u001b[0m in \u001b[0;36m<module>\u001b[0;34m\u001b[0m\n\u001b[1;32m     20\u001b[0m     \u001b[0;32mfor\u001b[0m \u001b[0mdi\u001b[0m\u001b[0;34m,\u001b[0m \u001b[0mti\u001b[0m \u001b[0;32min\u001b[0m \u001b[0mzip\u001b[0m\u001b[0;34m(\u001b[0m\u001b[0mrow_ind\u001b[0m\u001b[0;34m,\u001b[0m \u001b[0mcol_ind\u001b[0m\u001b[0;34m)\u001b[0m\u001b[0;34m:\u001b[0m\u001b[0;34m\u001b[0m\u001b[0;34m\u001b[0m\u001b[0m\n\u001b[1;32m     21\u001b[0m         \u001b[0;32mif\u001b[0m \u001b[0mtimestep\u001b[0m \u001b[0;34m!=\u001b[0m \u001b[0;36m0\u001b[0m\u001b[0;34m:\u001b[0m\u001b[0;34m\u001b[0m\u001b[0;34m\u001b[0m\u001b[0m\n\u001b[0;32m---> 22\u001b[0;31m             \u001b[0mlogger\u001b[0m\u001b[0;34m.\u001b[0m\u001b[0mdebug\u001b[0m\u001b[0;34m(\u001b[0m\u001b[0;34mf\"{detections[di]._feature_xy} -> {tracks[ti].detections[-1]._feature_xy}\"\u001b[0m\u001b[0;34m)\u001b[0m\u001b[0;34m\u001b[0m\u001b[0;34m\u001b[0m\u001b[0m\n\u001b[0m\u001b[1;32m     23\u001b[0m         \u001b[0mtracks\u001b[0m\u001b[0;34m[\u001b[0m\u001b[0mti\u001b[0m\u001b[0;34m]\u001b[0m\u001b[0;34m.\u001b[0m\u001b[0mdetections\u001b[0m\u001b[0;34m.\u001b[0m\u001b[0mappend\u001b[0m\u001b[0;34m(\u001b[0m\u001b[0mdetections\u001b[0m\u001b[0;34m[\u001b[0m\u001b[0mdi\u001b[0m\u001b[0;34m]\u001b[0m\u001b[0;34m)\u001b[0m\u001b[0;34m\u001b[0m\u001b[0;34m\u001b[0m\u001b[0m\n",
      "\u001b[0;31mIndexError\u001b[0m: list index out of range"
     ]
    }
   ],
   "source": [
    "\n",
    "funcs=[euclidean]\n",
    "timesteps = list(ball_detections.keys())\n",
    "for timestep in timesteps:\n",
    "    detections = ball_detections[timestep]\n",
    "\n",
    "    # initialize trackers\n",
    "    if timestep == 0:\n",
    "        tracks = [Track(34) for _ in detections]\n",
    "\n",
    "    # generate cost matrix\n",
    "    cost_matrix = cdist(detections, tracks, funcs)\n",
    "\n",
    "    # calculate hungarian assignment\n",
    "    row_ind, col_ind = linear_sum_assignment(cost_matrix)\n",
    "\n",
    "    # update tracks\n",
    "    for di, ti in zip(row_ind, col_ind):\n",
    "        if timestep != 0:\n",
    "            logger.debug(f\"{detections[di]._feature_xy} -> {tracks[ti].detections[-1]._feature_xy}\")\n",
    "        tracks[ti].detections.append(detections[di])\n"
   ]
  },
  {
   "cell_type": "code",
   "execution_count": 102,
   "metadata": {},
   "outputs": [
    {
     "data": {
      "text/plain": [
       "<matplotlib.collections.PathCollection at 0x7fe7706280d0>"
      ]
     },
     "execution_count": 102,
     "metadata": {},
     "output_type": "execute_result"
    },
    {
     "data": {
      "image/png": "[encoded data removed]",
      "text/plain": [
       "<Figure size 432x288 with 1 Axes>"
      ]
     },
     "metadata": {},
     "output_type": "display_data"
    }
   ],
   "source": [
    "# before pitch reconstruction\n",
    "pitch = Pitch(pitch_color='black', line_color=(.3,.3,.3), pitch_type='custom', pitch_length=105, pitch_width=68) \n",
    "fig, ax = pitch.draw()\n",
    "\n",
    "for track in tracks:\n",
    "    xs, ys = get_xsys(track.detections, cameras)\n",
    "    plt.scatter(xs, ys, color=np.random.rand(3,))\n",
    "\n",
    "plt.scatter(0,0, color='green')\n",
    "plt.scatter(105,68, color='yellow')"
   ]
  },
  {
   "cell_type": "code",
   "execution_count": null,
   "metadata": {},
   "outputs": [],
   "source": [
    "df = pd.concat(df_list) # necessary for restart\n",
    "df = df.sort_values('frame') \n",
    "\n",
    "# ball trajectory reconstruction\n",
    "xs, ys, ts = df[(df['name']=='sports ball') & (df['confidence']>=.5) & (df['drop']==False)][['x', 'y', 'frame']].values.T\n",
    "\n",
    "ts_range = range(int(ts[0]), int(ts[-1]+2))\n",
    "xs2 = [np.nan for _ in ts_range]\n",
    "ys2 = [np.nan for _ in ts_range]\n",
    "\n",
    "for i, _ in enumerate(ts):\n",
    "    xs2[int(ts[i])] = xs[i]\n",
    "    ys2[int(ts[i])] = ys[i]\n",
    "    \n",
    "xs = np.array(xs2)\n",
    "ys = np.array(ys2)\n",
    "\n",
    "for _ in range(3):\n",
    "    xs = fill_nan(xs)\n",
    "    ys = fill_nan(ys)\n",
    "    ds = np.sqrt(np.diff(xs, 1, append=xs[-1:]) ** 2 + np.diff(ys, 1, append=ys[-1:]) ** 2)\n",
    "    \n",
    "    xs = smooth(xs, 3)\n",
    "    ys = smooth(ys, 3)\n",
    "    ds = smooth(ds, 3)\n",
    "    xs[ds>1.] = np.nan\n",
    "    ys[ds>1.] = np.nan\n",
    "\n",
    "    xs = fill_nan(xs)\n",
    "    ys = fill_nan(ys)\n",
    "\n",
    "# try to update main dataframe\n",
    "for t in tqdm(ts_range):\n",
    "    if len(df.loc[(df['name']=='sports ball') & (df['drop']==False) & (df['frame']==t)]) == 0:\n",
    "        df = df.append([{\n",
    "            'name':'sports ball',\n",
    "            'drop':False,\n",
    "            'frame':t,\n",
    "            'x': xs[t],\n",
    "            'y': ys[t]\n",
    "        }])\n",
    "    else:\n",
    "        # dupes r fuk\n",
    "        df.loc[(df['name']=='sports ball') & (df['drop']==False) & (df['frame']==t), 'x'] = xs[t]\n",
    "        df.loc[(df['name']=='sports ball') & (df['drop']==False) & (df['frame']==t), 'y'] = ys[t]"
   ]
  }
 ],
 "metadata": {
  "interpreter": {
   "hash": "47bcc98a91e0639070087bf2bbd0f353a7498108652c8107efb5221696e92166"
  },
  "kernelspec": {
   "display_name": "Python 3.8.12 64-bit ('base_atom': conda)",
   "language": "python",
   "name": "python3"
  },
  "language_info": {
   "codemirror_mode": {
    "name": "ipython",
    "version": 3
   },
   "file_extension": ".py",
   "mimetype": "text/x-python",
   "name": "python",
   "nbconvert_exporter": "python",
   "pygments_lexer": "ipython3",
   "version": "3.8.12"
  },
  "orig_nbformat": 4
 },
 "nbformat": 4,
 "nbformat_minor": 2
}
