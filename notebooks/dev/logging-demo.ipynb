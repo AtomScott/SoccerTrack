{
 "cells": [
  {
   "cell_type": "code",
   "execution_count": 1,
   "metadata": {},
   "outputs": [
    {
     "name": "stdout",
     "output_type": "stream",
     "text": [
      "\u001b[36m\u001b[1mIPython:7\u001b[0m\u001b[36m\t💬\u001b[0m| This is an info message\n",
      "\u001b[32m\u001b[1mIPython:8\u001b[0m\u001b[32m\t✔️\u001b[0m| success!\n",
      "\u001b[33m\u001b[1mIPython:9\u001b[0m\u001b[33m\t⚠️\u001b[0m| I am warning you Github copilot!\n",
      "\u001b[31m\u001b[1mIPython:10\u001b[0m\u001b[31m\t❌\u001b[0m| I am error you Github copilot!\n",
      "\u001b[31m\u001b[1mIPython:11\u001b[0m\u001b[31m\t🔥\u001b[0m| Fire in the hole!\n"
     ]
    }
   ],
   "source": [
    "from soccertrack.utils import logger\n",
    "\n",
    "# The default level is INFO so debug messages are not printed\n",
    "logger.debug(\"That's it, beautiful and simple logging!\") \n",
    "\n",
    "# The following messages are printed\n",
    "logger.info(\"This is an info message\")\n",
    "logger.success(\"success!\")\n",
    "logger.warning(\"I am warning you Github copilot!\")\n",
    "logger.error(\"I am error you Github copilot!\")\n",
    "logger.critical(\"Fire in the hole!\")"
   ]
  },
  {
   "cell_type": "code",
   "execution_count": 2,
   "metadata": {},
   "outputs": [
    {
     "name": "stdout",
     "output_type": "stream",
     "text": [
      "\u001b[37m\u001b[1mIPython:5\u001b[0m\u001b[37m\t🐛\u001b[0m| That's it, beautiful and simple logging!\n",
      "\u001b[31m\u001b[1mIPython:10\u001b[0m\u001b[31m\t🔥\u001b[0m| Fire in the hole!\n"
     ]
    }
   ],
   "source": [
    "from soccertrack.utils import set_log_level\n",
    "\n",
    "# set the log level to DEBUG\n",
    "set_log_level('DEBUG') \n",
    "logger.debug(\"That's it, beautiful and simple logging!\") \n",
    "\n",
    "# set the log level to CRITICAL\n",
    "set_log_level('critical') # <- using lower case is OK\n",
    "logger.debug(\"That's it, beautiful and simple logging!\")\n",
    "logger.critical(\"Fire in the hole!\")"
   ]
  },
  {
   "cell_type": "markdown",
   "metadata": {},
   "source": [
    "# Classes"
   ]
  },
  {
   "cell_type": "code",
   "execution_count": 3,
   "metadata": {},
   "outputs": [
    {
     "name": "stdout",
     "output_type": "stream",
     "text": [
      "\u001b[36m\u001b[1mHello:world:8\u001b[0m\u001b[36m\t💬\u001b[0m| hello world\n"
     ]
    }
   ],
   "source": [
    "from soccertrack.utils import LoggerMixin\n",
    "\n",
    "class Hello(LoggerMixin):\n",
    "    def __init__(self):\n",
    "        super().__init__()\n",
    "\n",
    "    def world(self):\n",
    "        self.logger.info(\"hello world\")\n",
    "\n",
    "hello = Hello()\n",
    "hello.world() # <- this won't print anything because the log level is set to CRITICAL\n",
    "\n",
    "# set the log level to INFO\n",
    "set_log_level('INFO')\n",
    "hello.world() # <- this will print the message "
   ]
  },
  {
   "cell_type": "markdown",
   "metadata": {},
   "source": [
    "# Tqdm"
   ]
  },
  {
   "cell_type": "markdown",
   "metadata": {},
   "source": [
    "SoccerTrack wraps `tqdm` to provide a progress bar that is only visible when it matches the currently set verbosity level.\n",
    "\n",
    "Below is a snippet of the implemented code. As you can see there is an extra parameter `level` which can be used to set the verbosity level. The default value is \"INFO\".\n",
    "\n",
    "``` python\n",
    "def tqdm(*args, **kwargs, level=\"INFO\"):\n",
    "    LOG_LEVEL = os.environ.get(\"LOG_LEVEL\", \"INFO\")\n",
    "    enable = logger.level(LOG_LEVEL).no <= logger.level(level.upper()).no\n",
    "    kwargs.update({\"disable\" : not enable})\n",
    "    return tqdm(*args, **kwargs)\n",
    "```"
   ]
  },
  {
   "cell_type": "code",
   "execution_count": 4,
   "metadata": {},
   "outputs": [
    {
     "name": "stdout",
     "output_type": "stream",
     "text": [
      "\u001b[31m\u001b[1mIPython:7\u001b[0m\u001b[31m\t🔥\u001b[0m| Iterating #0\n",
      "\u001b[31m\u001b[1mIPython:7\u001b[0m\u001b[31m\t🔥\u001b[0m| Iterating #20\n",
      "\u001b[31m\u001b[1mIPython:7\u001b[0m\u001b[31m\t🔥\u001b[0m| Iterating #40\n",
      "\u001b[31m\u001b[1mIPython:7\u001b[0m\u001b[31m\t🔥\u001b[0m| Iterating #60\n",
      "\u001b[31m\u001b[1mIPython:7\u001b[0m\u001b[31m\t🔥\u001b[0m| Iterating #80\n"
     ]
    }
   ],
   "source": [
    "import time\n",
    "from soccertrack.utils import tqdm\n",
    "\n",
    "# The progress bar is not visible\n",
    "for x in tqdm(range(100), level=\"DEBUG\"):\n",
    "    if x % 20 == 0:\n",
    "        logger.critical(\"Iterating #{}\", x)\n",
    "    time.sleep(0.1)"
   ]
  },
  {
   "cell_type": "code",
   "execution_count": 5,
   "metadata": {},
   "outputs": [
    {
     "data": {
      "application/vnd.jupyter.widget-view+json": {
       "model_id": "20f7d6397d874388accbe71a80209003",
       "version_major": 2,
       "version_minor": 0
      },
      "text/plain": [
       "  0%|          | 0/100 [00:00<?, ?it/s]"
      ]
     },
     "metadata": {},
     "output_type": "display_data"
    },
    {
     "name": "stdout",
     "output_type": "stream",
     "text": [
      "\u001b[31m\u001b[1mIPython:4\u001b[0m\u001b[31m\t🔥\u001b[0m| Iterating #0\n",
      "\u001b[31m\u001b[1mIPython:4\u001b[0m\u001b[31m\t🔥\u001b[0m| Iterating #20\n",
      "\u001b[31m\u001b[1mIPython:4\u001b[0m\u001b[31m\t🔥\u001b[0m| Iterating #40\n",
      "\u001b[31m\u001b[1mIPython:4\u001b[0m\u001b[31m\t🔥\u001b[0m| Iterating #60\n",
      "\u001b[31m\u001b[1mIPython:4\u001b[0m\u001b[31m\t🔥\u001b[0m| Iterating #80\n"
     ]
    }
   ],
   "source": [
    "# The progress bar is visible\n",
    "for x in tqdm(range(100), level=\"INFO\"):\n",
    "    if x % 20 == 0:\n",
    "        logger.critical(\"Iterating #{}\", x)\n",
    "    time.sleep(0.1)"
   ]
  },
  {
   "cell_type": "code",
   "execution_count": 6,
   "metadata": {},
   "outputs": [
    {
     "data": {
      "application/vnd.jupyter.widget-view+json": {
       "model_id": "6b4dfd73096e485dabde79fd6b9545e8",
       "version_major": 2,
       "version_minor": 0
      },
      "text/plain": [
       "  0%|          | 0/100 [00:00<?, ?it/s]"
      ]
     },
     "metadata": {},
     "output_type": "display_data"
    },
    {
     "name": "stdout",
     "output_type": "stream",
     "text": [
      "\u001b[31m\u001b[1mIPython:5\u001b[0m\u001b[31m\t🔥\u001b[0m| Iterating #0\n",
      "\u001b[31m\u001b[1mIPython:5\u001b[0m\u001b[31m\t🔥\u001b[0m| Iterating #20\n",
      "\u001b[31m\u001b[1mIPython:5\u001b[0m\u001b[31m\t🔥\u001b[0m| Iterating #40\n",
      "\u001b[31m\u001b[1mIPython:5\u001b[0m\u001b[31m\t🔥\u001b[0m| Iterating #60\n",
      "\u001b[31m\u001b[1mIPython:5\u001b[0m\u001b[31m\t🔥\u001b[0m| Iterating #80\n"
     ]
    }
   ],
   "source": [
    "# The progress bar is visible\n",
    "set_log_level('DEBUG') \n",
    "for x in tqdm(range(100), level=\"DEBUG\"):\n",
    "    if x % 20 == 0:\n",
    "        logger.critical(\"Iterating #{}\", x)\n",
    "    time.sleep(0.1)"
   ]
  },
  {
   "cell_type": "markdown",
   "metadata": {},
   "source": [
    "# Other"
   ]
  },
  {
   "cell_type": "code",
   "execution_count": 7,
   "metadata": {},
   "outputs": [
    {
     "name": "stdout",
     "output_type": "stream",
     "text": [
      "\u001b[36m\u001b[1minspect:78\u001b[0m\u001b[36m\t💬\u001b[0m| Inspecting: (<function inspect at 0x7fb1dc543b80>,)\n"
     ]
    },
    {
     "data": {
      "text/html": [
       "<pre style=\"white-space:pre;overflow-x:auto;line-height:normal;font-family:Menlo,'DejaVu Sans Mono',consolas,'Courier New',monospace\"><span style=\"color: #000080; text-decoration-color: #000080\">╭──────────── </span><span style=\"color: #000080; text-decoration-color: #000080; font-weight: bold\">&lt;</span><span style=\"color: #ff00ff; text-decoration-color: #ff00ff; font-weight: bold\">function</span><span style=\"color: #000000; text-decoration-color: #000000\"> inspect at </span><span style=\"color: #008080; text-decoration-color: #008080; font-weight: bold\">0x7fb1dc543b80</span><span style=\"color: #000080; text-decoration-color: #000080; font-weight: bold\">&gt;</span><span style=\"color: #000080; text-decoration-color: #000080\"> ────────────╮</span>\n",
       "<span style=\"color: #000080; text-decoration-color: #000080\">│</span> <span style=\"color: #00ffff; text-decoration-color: #00ffff; font-style: italic\">def </span><span style=\"color: #800000; text-decoration-color: #800000; font-weight: bold\">inspect</span><span style=\"font-weight: bold\">(</span>*args, <span style=\"color: #808000; text-decoration-color: #808000\">level</span>=<span style=\"color: #008000; text-decoration-color: #008000\">'INFO'</span>, **kwargs<span style=\"font-weight: bold\">)</span>:                  <span style=\"color: #000080; text-decoration-color: #000080\">│</span>\n",
       "<span style=\"color: #000080; text-decoration-color: #000080\">│</span>                                                              <span style=\"color: #000080; text-decoration-color: #000080\">│</span>\n",
       "<span style=\"color: #000080; text-decoration-color: #000080\">│</span> <span style=\"color: #008080; text-decoration-color: #008080\">Wrapper for rich.inspect that uses the logger's level</span>        <span style=\"color: #000080; text-decoration-color: #000080\">│</span>\n",
       "<span style=\"color: #000080; text-decoration-color: #000080\">│</span>                                                              <span style=\"color: #000080; text-decoration-color: #000080\">│</span>\n",
       "<span style=\"color: #000080; text-decoration-color: #000080\">│</span> <span style=\"color: #008080; text-decoration-color: #008080; font-weight: bold\">35</span><span style=\"font-style: italic\"> attribute(s) not shown.</span> Run <span style=\"color: #800080; text-decoration-color: #800080; font-weight: bold\">inspect</span><span style=\"font-weight: bold\">(</span>inspect<span style=\"font-weight: bold\">)</span> for options. <span style=\"color: #000080; text-decoration-color: #000080\">│</span>\n",
       "<span style=\"color: #000080; text-decoration-color: #000080\">╰──────────────────────────────────────────────────────────────╯</span>\n",
       "</pre>\n"
      ],
      "text/plain": [
       "\u001b[34m╭─\u001b[0m\u001b[34m─────────── \u001b[0m\u001b[1;34m<\u001b[0m\u001b[1;95mfunction\u001b[0m\u001b[39m inspect at \u001b[0m\u001b[1;36m0x7fb1dc543b80\u001b[0m\u001b[1;34m>\u001b[0m\u001b[34m ───────────\u001b[0m\u001b[34m─╮\u001b[0m\n",
       "\u001b[34m│\u001b[0m \u001b[3;96mdef \u001b[0m\u001b[1;31minspect\u001b[0m\u001b[1m(\u001b[0m*args, \u001b[33mlevel\u001b[0m=\u001b[32m'INFO'\u001b[0m, **kwargs\u001b[1m)\u001b[0m:                  \u001b[34m│\u001b[0m\n",
       "\u001b[34m│\u001b[0m                                                              \u001b[34m│\u001b[0m\n",
       "\u001b[34m│\u001b[0m \u001b[36mWrapper for rich.inspect that uses the logger's level\u001b[0m        \u001b[34m│\u001b[0m\n",
       "\u001b[34m│\u001b[0m                                                              \u001b[34m│\u001b[0m\n",
       "\u001b[34m│\u001b[0m \u001b[1;36m35\u001b[0m\u001b[3m attribute(s) not shown.\u001b[0m Run \u001b[1;35minspect\u001b[0m\u001b[1m(\u001b[0minspect\u001b[1m)\u001b[0m for options. \u001b[34m│\u001b[0m\n",
       "\u001b[34m╰──────────────────────────────────────────────────────────────╯\u001b[0m\n"
      ]
     },
     "metadata": {},
     "output_type": "display_data"
    }
   ],
   "source": [
    "from soccertrack.utils import inspect\n",
    "\n",
    "set_log_level('INFO') \n",
    "inspect(inspect, level=\"DEBUG\")\n",
    "inspect(inspect, level=\"INFO\")"
   ]
  }
 ],
 "metadata": {
  "interpreter": {
   "hash": "47bcc98a91e0639070087bf2bbd0f353a7498108652c8107efb5221696e92166"
  },
  "kernelspec": {
   "display_name": "Python 3.8.12 64-bit ('base_atom': conda)",
   "language": "python",
   "name": "python3"
  },
  "language_info": {
   "codemirror_mode": {
    "name": "ipython",
    "version": 3
   },
   "file_extension": ".py",
   "mimetype": "text/x-python",
   "name": "python",
   "nbconvert_exporter": "python",
   "pygments_lexer": "ipython3",
   "version": "3.8.12"
  },
  "orig_nbformat": 4
 },
 "nbformat": 4,
 "nbformat_minor": 2
}
