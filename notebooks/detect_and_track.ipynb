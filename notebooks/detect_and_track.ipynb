{
 "cells": [
  {
   "cell_type": "code",
   "execution_count": 1,
   "metadata": {},
   "outputs": [],
   "source": [
    "import os\n",
    "import sys\n",
    "\n",
    "sys.path.append('/home/atom/MiRAI')"
   ]
  },
  {
   "cell_type": "code",
   "execution_count": 2,
   "metadata": {},
   "outputs": [
    {
     "data": {
      "text/html": [
       "<pre style=\"white-space:pre;overflow-x:auto;line-height:normal;font-family:Menlo,'DejaVu Sans Mono',consolas,'Courier New',monospace\"><span style=\"color: #000080; text-decoration-color: #000080\">╭──────────────────────── </span><span style=\"color: #000080; text-decoration-color: #000080; font-weight: bold\">&lt;</span><span style=\"color: #ff00ff; text-decoration-color: #ff00ff; font-weight: bold\">class</span><span style=\"color: #000000; text-decoration-color: #000000\"> </span><span style=\"color: #008000; text-decoration-color: #008000\">'omegaconf.dictconfig.DictConfig'</span><span style=\"color: #000080; text-decoration-color: #000080; font-weight: bold\">&gt;</span><span style=\"color: #000080; text-decoration-color: #000080\"> ────────────────────────╮</span>\n",
       "<span style=\"color: #000080; text-decoration-color: #000080\">│</span>   <span style=\"color: #808000; text-decoration-color: #808000; font-style: italic\">cameras</span> = <span style=\"font-weight: bold\">[{</span><span style=\"color: #008000; text-decoration-color: #008000\">'label'</span>: <span style=\"color: #008000; text-decoration-color: #008000\">'left'</span>, <span style=\"color: #008000; text-decoration-color: #008000\">'video_path'</span>:                                              <span style=\"color: #000080; text-decoration-color: #000080\">│</span>\n",
       "<span style=\"color: #000080; text-decoration-color: #000080\">│</span>             <span style=\"color: #008000; text-decoration-color: #008000\">'/mnt/ssd/atom//MiRAI/20210620/offside_1/left_raw.mp4'</span>, <span style=\"color: #008000; text-decoration-color: #008000\">'keypoint_xml'</span>:       <span style=\"color: #000080; text-decoration-color: #000080\">│</span>\n",
       "<span style=\"color: #000080; text-decoration-color: #000080\">│</span>             <span style=\"color: #008000; text-decoration-color: #008000\">'/mnt/ssd/atom/MiRAI/20210620/left_keypoints_raw_2.xml'</span>,                      <span style=\"color: #000080; text-decoration-color: #000080\">│</span>\n",
       "<span style=\"color: #000080; text-decoration-color: #000080\">│</span>             <span style=\"color: #008000; text-decoration-color: #008000\">'calibration_video_path'</span>:                                                     <span style=\"color: #000080; text-decoration-color: #000080\">│</span>\n",
       "<span style=\"color: #000080; text-decoration-color: #000080\">│</span>             <span style=\"color: #008000; text-decoration-color: #008000\">'/mnt/ssd/atom/MiRAI/20210620/left_checkerboard.mp4'</span>, <span style=\"color: #008000; text-decoration-color: #008000\">'x_range'</span>: <span style=\"font-weight: bold\">[</span><span style=\"color: #008080; text-decoration-color: #008080; font-weight: bold\">0</span>, <span style=\"color: #008080; text-decoration-color: #008080; font-weight: bold\">52.5</span><span style=\"font-weight: bold\">]</span>,   <span style=\"color: #000080; text-decoration-color: #000080\">│</span>\n",
       "<span style=\"color: #000080; text-decoration-color: #000080\">│</span>             <span style=\"color: #008000; text-decoration-color: #008000\">'y_range'</span>: <span style=\"font-weight: bold\">[</span><span style=\"color: #008080; text-decoration-color: #008080; font-weight: bold\">0</span>, <span style=\"color: #008080; text-decoration-color: #008080; font-weight: bold\">68</span><span style=\"font-weight: bold\">]</span>, <span style=\"color: #008000; text-decoration-color: #008000\">'camera_matrix'</span>: <span style=\"color: #800080; text-decoration-color: #800080; font-style: italic\">None</span>, <span style=\"color: #008000; text-decoration-color: #008000\">'camera_matrix_path'</span>:              <span style=\"color: #000080; text-decoration-color: #000080\">│</span>\n",
       "<span style=\"color: #000080; text-decoration-color: #000080\">│</span>             <span style=\"color: #008000; text-decoration-color: #008000\">'/mnt/ssd/atom/MiRAI/20210620/left_checkerboard.mp4.camera_matrix.npy'</span>,       <span style=\"color: #000080; text-decoration-color: #000080\">│</span>\n",
       "<span style=\"color: #000080; text-decoration-color: #000080\">│</span>             <span style=\"color: #008000; text-decoration-color: #008000\">'distortion_coefficients'</span>: <span style=\"color: #800080; text-decoration-color: #800080; font-style: italic\">None</span>, <span style=\"color: #008000; text-decoration-color: #008000\">'distortion_coefficients_path'</span>:              <span style=\"color: #000080; text-decoration-color: #000080\">│</span>\n",
       "<span style=\"color: #000080; text-decoration-color: #000080\">│</span>             <span style=\"color: #008000; text-decoration-color: #008000\">'/mnt/ssd/atom/MiRAI/20210620/left_checkerboard.mp4.distortion_coefficients.…</span> <span style=\"color: #000080; text-decoration-color: #000080\">│</span>\n",
       "<span style=\"color: #000080; text-decoration-color: #000080\">│</span>             <span style=\"font-weight: bold\">{</span><span style=\"color: #008000; text-decoration-color: #008000\">'label'</span>: <span style=\"color: #008000; text-decoration-color: #008000\">'right'</span>, <span style=\"color: #008000; text-decoration-color: #008000\">'video_path'</span>:                                              <span style=\"color: #000080; text-decoration-color: #000080\">│</span>\n",
       "<span style=\"color: #000080; text-decoration-color: #000080\">│</span>             <span style=\"color: #008000; text-decoration-color: #008000\">'/mnt/ssd/atom/MiRAI/20210620/offside_1/right_raw.mp4'</span>, <span style=\"color: #008000; text-decoration-color: #008000\">'keypoint_xml'</span>:       <span style=\"color: #000080; text-decoration-color: #000080\">│</span>\n",
       "<span style=\"color: #000080; text-decoration-color: #000080\">│</span>             <span style=\"color: #008000; text-decoration-color: #008000\">'/mnt/ssd/atom/MiRAI/20210620/right_keypoints_raw_2.xml'</span>,                     <span style=\"color: #000080; text-decoration-color: #000080\">│</span>\n",
       "<span style=\"color: #000080; text-decoration-color: #000080\">│</span>             <span style=\"color: #008000; text-decoration-color: #008000\">'calibration_video_path'</span>:                                                     <span style=\"color: #000080; text-decoration-color: #000080\">│</span>\n",
       "<span style=\"color: #000080; text-decoration-color: #000080\">│</span>             <span style=\"color: #008000; text-decoration-color: #008000\">'/mnt/ssd/atom/MiRAI/20210620/right_checkerboard.mp4'</span>, <span style=\"color: #008000; text-decoration-color: #008000\">'x_range'</span>: <span style=\"font-weight: bold\">[</span><span style=\"color: #008080; text-decoration-color: #008080; font-weight: bold\">52.5</span>,      <span style=\"color: #000080; text-decoration-color: #000080\">│</span>\n",
       "<span style=\"color: #000080; text-decoration-color: #000080\">│</span>             <span style=\"color: #008080; text-decoration-color: #008080; font-weight: bold\">105</span><span style=\"font-weight: bold\">]</span>, <span style=\"color: #008000; text-decoration-color: #008000\">'y_range'</span>: <span style=\"font-weight: bold\">[</span><span style=\"color: #008080; text-decoration-color: #008080; font-weight: bold\">0</span>, <span style=\"color: #008080; text-decoration-color: #008080; font-weight: bold\">68</span><span style=\"font-weight: bold\">]</span>, <span style=\"color: #008000; text-decoration-color: #008000\">'camera_matrix'</span>: <span style=\"color: #800080; text-decoration-color: #800080; font-style: italic\">None</span>, <span style=\"color: #008000; text-decoration-color: #008000\">'camera_matrix_path'</span>:        <span style=\"color: #000080; text-decoration-color: #000080\">│</span>\n",
       "<span style=\"color: #000080; text-decoration-color: #000080\">│</span>             <span style=\"color: #008000; text-decoration-color: #008000\">'/mnt/ssd/atom/MiRAI/20210620/right_checkerboard.mp4.camera_matrix.npy'</span>,      <span style=\"color: #000080; text-decoration-color: #000080\">│</span>\n",
       "<span style=\"color: #000080; text-decoration-color: #000080\">│</span>             <span style=\"color: #008000; text-decoration-color: #008000\">'distortion_coefficients'</span>: <span style=\"color: #800080; text-decoration-color: #800080; font-style: italic\">None</span>, <span style=\"color: #008000; text-decoration-color: #008000\">'distortion_coefficients_path'</span>:              <span style=\"color: #000080; text-decoration-color: #000080\">│</span>\n",
       "<span style=\"color: #000080; text-decoration-color: #000080\">│</span>             <span style=\"color: #008000; text-decoration-color: #008000\">'/mnt/ssd/atom/MiRAI/20210620/right_checkerboard.mp4.distortion_coefficients…</span> <span style=\"color: #000080; text-decoration-color: #000080\">│</span>\n",
       "<span style=\"color: #000080; text-decoration-color: #000080\">│</span> <span style=\"color: #808000; text-decoration-color: #808000; font-style: italic\">detection</span> = <span style=\"font-weight: bold\">{</span><span style=\"color: #008000; text-decoration-color: #008000\">'model_name'</span>: <span style=\"color: #008000; text-decoration-color: #008000\">'yolov5x'</span>, <span style=\"color: #008000; text-decoration-color: #008000\">'size'</span>: <span style=\"color: #008080; text-decoration-color: #008080; font-weight: bold\">3000</span>, <span style=\"color: #008000; text-decoration-color: #008000\">'batch_size'</span>: <span style=\"color: #008080; text-decoration-color: #008080; font-weight: bold\">32</span><span style=\"font-weight: bold\">}</span>                     <span style=\"color: #000080; text-decoration-color: #000080\">│</span>\n",
       "<span style=\"color: #000080; text-decoration-color: #000080\">│</span>    <span style=\"color: #808000; text-decoration-color: #808000; font-style: italic\">outdir</span> = <span style=\"color: #008000; text-decoration-color: #008000\">'/mnt/ssd/atom/logs/MiRAI/outputs/2021-11-29_04-47-51'</span>                        <span style=\"color: #000080; text-decoration-color: #000080\">│</span>\n",
       "<span style=\"color: #000080; text-decoration-color: #000080\">╰───────────────────────────────────────────────────────────────────────────────────────────╯</span>\n",
       "</pre>\n"
      ],
      "text/plain": [
       "\u001b[34m╭─\u001b[0m\u001b[34m─────────────────────── \u001b[0m\u001b[1;34m<\u001b[0m\u001b[1;95mclass\u001b[0m\u001b[39m \u001b[0m\u001b[32m'omegaconf.dictconfig.DictConfig'\u001b[0m\u001b[1;34m>\u001b[0m\u001b[34m ───────────────────────\u001b[0m\u001b[34m─╮\u001b[0m\n",
       "\u001b[34m│\u001b[0m   \u001b[3;33mcameras\u001b[0m = \u001b[1m[\u001b[0m\u001b[1m{\u001b[0m\u001b[32m'label'\u001b[0m: \u001b[32m'left'\u001b[0m, \u001b[32m'video_path'\u001b[0m:                                              \u001b[34m│\u001b[0m\n",
       "\u001b[34m│\u001b[0m             \u001b[32m'/mnt/ssd/atom//MiRAI/20210620/offside_1/left_raw.mp4'\u001b[0m, \u001b[32m'keypoint_xml'\u001b[0m:       \u001b[34m│\u001b[0m\n",
       "\u001b[34m│\u001b[0m             \u001b[32m'/mnt/ssd/atom/MiRAI/20210620/left_keypoints_raw_2.xml'\u001b[0m,                      \u001b[34m│\u001b[0m\n",
       "\u001b[34m│\u001b[0m             \u001b[32m'calibration_video_path'\u001b[0m:                                                     \u001b[34m│\u001b[0m\n",
       "\u001b[34m│\u001b[0m             \u001b[32m'/mnt/ssd/atom/MiRAI/20210620/left_checkerboard.mp4'\u001b[0m, \u001b[32m'x_range'\u001b[0m: \u001b[1m[\u001b[0m\u001b[1;36m0\u001b[0m, \u001b[1;36m52.5\u001b[0m\u001b[1m]\u001b[0m,   \u001b[34m│\u001b[0m\n",
       "\u001b[34m│\u001b[0m             \u001b[32m'y_range'\u001b[0m: \u001b[1m[\u001b[0m\u001b[1;36m0\u001b[0m, \u001b[1;36m68\u001b[0m\u001b[1m]\u001b[0m, \u001b[32m'camera_matrix'\u001b[0m: \u001b[3;35mNone\u001b[0m, \u001b[32m'camera_matrix_path'\u001b[0m:              \u001b[34m│\u001b[0m\n",
       "\u001b[34m│\u001b[0m             \u001b[32m'/mnt/ssd/atom/MiRAI/20210620/left_checkerboard.mp4.camera_matrix.npy'\u001b[0m,       \u001b[34m│\u001b[0m\n",
       "\u001b[34m│\u001b[0m             \u001b[32m'distortion_coefficients'\u001b[0m: \u001b[3;35mNone\u001b[0m, \u001b[32m'distortion_coefficients_path'\u001b[0m:              \u001b[34m│\u001b[0m\n",
       "\u001b[34m│\u001b[0m             \u001b[32m'/mnt/ssd/atom/MiRAI/20210620/left_checkerboard.mp4.distortion_coefficients.…\u001b[0m \u001b[34m│\u001b[0m\n",
       "\u001b[34m│\u001b[0m             \u001b[1m{\u001b[0m\u001b[32m'label'\u001b[0m: \u001b[32m'right'\u001b[0m, \u001b[32m'video_path'\u001b[0m:                                              \u001b[34m│\u001b[0m\n",
       "\u001b[34m│\u001b[0m             \u001b[32m'/mnt/ssd/atom/MiRAI/20210620/offside_1/right_raw.mp4'\u001b[0m, \u001b[32m'keypoint_xml'\u001b[0m:       \u001b[34m│\u001b[0m\n",
       "\u001b[34m│\u001b[0m             \u001b[32m'/mnt/ssd/atom/MiRAI/20210620/right_keypoints_raw_2.xml'\u001b[0m,                     \u001b[34m│\u001b[0m\n",
       "\u001b[34m│\u001b[0m             \u001b[32m'calibration_video_path'\u001b[0m:                                                     \u001b[34m│\u001b[0m\n",
       "\u001b[34m│\u001b[0m             \u001b[32m'/mnt/ssd/atom/MiRAI/20210620/right_checkerboard.mp4'\u001b[0m, \u001b[32m'x_range'\u001b[0m: \u001b[1m[\u001b[0m\u001b[1;36m52.5\u001b[0m,      \u001b[34m│\u001b[0m\n",
       "\u001b[34m│\u001b[0m             \u001b[1;36m105\u001b[0m\u001b[1m]\u001b[0m, \u001b[32m'y_range'\u001b[0m: \u001b[1m[\u001b[0m\u001b[1;36m0\u001b[0m, \u001b[1;36m68\u001b[0m\u001b[1m]\u001b[0m, \u001b[32m'camera_matrix'\u001b[0m: \u001b[3;35mNone\u001b[0m, \u001b[32m'camera_matrix_path'\u001b[0m:        \u001b[34m│\u001b[0m\n",
       "\u001b[34m│\u001b[0m             \u001b[32m'/mnt/ssd/atom/MiRAI/20210620/right_checkerboard.mp4.camera_matrix.npy'\u001b[0m,      \u001b[34m│\u001b[0m\n",
       "\u001b[34m│\u001b[0m             \u001b[32m'distortion_coefficients'\u001b[0m: \u001b[3;35mNone\u001b[0m, \u001b[32m'distortion_coefficients_path'\u001b[0m:              \u001b[34m│\u001b[0m\n",
       "\u001b[34m│\u001b[0m             \u001b[32m'/mnt/ssd/atom/MiRAI/20210620/right_checkerboard.mp4.distortion_coefficients…\u001b[0m \u001b[34m│\u001b[0m\n",
       "\u001b[34m│\u001b[0m \u001b[3;33mdetection\u001b[0m = \u001b[1m{\u001b[0m\u001b[32m'model_name'\u001b[0m: \u001b[32m'yolov5x'\u001b[0m, \u001b[32m'size'\u001b[0m: \u001b[1;36m3000\u001b[0m, \u001b[32m'batch_size'\u001b[0m: \u001b[1;36m32\u001b[0m\u001b[1m}\u001b[0m                     \u001b[34m│\u001b[0m\n",
       "\u001b[34m│\u001b[0m    \u001b[3;33moutdir\u001b[0m = \u001b[32m'/mnt/ssd/atom/logs/MiRAI/outputs/2021-11-29_04-47-51'\u001b[0m                        \u001b[34m│\u001b[0m\n",
       "\u001b[34m╰───────────────────────────────────────────────────────────────────────────────────────────╯\u001b[0m\n"
      ]
     },
     "metadata": {},
     "output_type": "display_data"
    }
   ],
   "source": [
    "from rich import print, inspect\n",
    "from src.utils import load_config, write_config\n",
    "from src.utils.camera import load_cameras\n",
    "from src.detect import detect_objects\n",
    "from src.utils import cv2pil\n",
    "\n",
    "cfg = load_config('/home/atom/MiRAI/scripts/tracking/detect_and_track.yaml')\n",
    "inspect(cfg, value=False)"
   ]
  },
  {
   "cell_type": "code",
   "execution_count": 3,
   "metadata": {},
   "outputs": [],
   "source": [
    "\n",
    "# load cameras\n",
    "\"\"\"\n",
    "TODO: camera init checklist\n",
    "    - are camera videos undistored? -> ...\n",
    "    - will matrix parameters be saved? -> yes, they are saved to .npy files\n",
    "\"\"\"\n",
    "cameras = load_cameras(cfg.cameras)\n"
   ]
  },
  {
   "cell_type": "code",
   "execution_count": 4,
   "metadata": {},
   "outputs": [
    {
     "data": {
      "text/plain": [
       "[<src.utils.camera.Camera at 0x7faa03f93f10>,\n",
       " <src.utils.camera.Camera at 0x7faaf4797c40>]"
      ]
     },
     "execution_count": 4,
     "metadata": {},
     "output_type": "execute_result"
    }
   ],
   "source": [
    "cameras"
   ]
  },
  {
   "cell_type": "code",
   "execution_count": 5,
   "metadata": {},
   "outputs": [
    {
     "name": "stderr",
     "output_type": "stream",
     "text": [
      "Using cache found in /home/atom/.cache/torch/hub/ultralytics_yolov5_master\n"
     ]
    },
    {
     "data": {
      "application/vnd.jupyter.widget-view+json": {
       "model_id": "df4dee089b044b53bffb972eaa675f75",
       "version_major": 2,
       "version_minor": 0
      },
      "text/plain": [
       "0it [00:00, ?it/s]"
      ]
     },
     "metadata": {},
     "output_type": "display_data"
    },
    {
     "name": "stdout",
     "output_type": "stream",
     "text": [
      "Unexpected end.\n"
     ]
    },
    {
     "data": {
      "application/vnd.jupyter.widget-view+json": {
       "model_id": "118376a2a85643afbb659ed5a1d0bd22",
       "version_major": 2,
       "version_minor": 0
      },
      "text/plain": [
       "0it [00:00, ?it/s]"
      ]
     },
     "metadata": {},
     "output_type": "display_data"
    },
    {
     "name": "stdout",
     "output_type": "stream",
     "text": [
      "Unexpected end.\n"
     ]
    },
    {
     "data": {
      "text/html": [
       "<pre style=\"white-space:pre;overflow-x:auto;line-height:normal;font-family:Menlo,'DejaVu Sans Mono',consolas,'Courier New',monospace\">N ball detections: <span style=\"color: #008080; text-decoration-color: #008080; font-weight: bold\">3129</span>\n",
       "</pre>\n"
      ],
      "text/plain": [
       "N ball detections: \u001b[1;36m3129\u001b[0m\n"
      ]
     },
     "metadata": {},
     "output_type": "display_data"
    },
    {
     "data": {
      "text/html": [
       "<pre style=\"white-space:pre;overflow-x:auto;line-height:normal;font-family:Menlo,'DejaVu Sans Mono',consolas,'Courier New',monospace\">N player detections: <span style=\"color: #008080; text-decoration-color: #008080; font-weight: bold\">33489</span>\n",
       "</pre>\n"
      ],
      "text/plain": [
       "N player detections: \u001b[1;36m33489\u001b[0m\n"
      ]
     },
     "metadata": {},
     "output_type": "display_data"
    }
   ],
   "source": [
    "# detection\n",
    "\"\"\"\n",
    "TODO: detection checklist\n",
    "    - return results as list of Detection Objects -> OK\n",
    "    - option to visualize detections? \n",
    "    - aggregate detections from multiple cameras? \n",
    "    - drop detections that are out of bounds -> OK\n",
    "    - Are detection results visualized and saved?\n",
    "\"\"\"\n",
    "player_detections, ball_detections = detect_objects(\n",
    "    cameras,\n",
    "    model_name='yolov5x',\n",
    "    size=3000,\n",
    "    batch_size=8,\n",
    "    filter_range=False\n",
    ")\n",
    "\n",
    "print(\"N ball detections:\", sum(len(x) for x in ball_detections.values()))\n",
    "print(\"N player detections:\", sum(len(x) for x in player_detections.values()))"
   ]
  },
  {
   "cell_type": "code",
   "execution_count": 8,
   "metadata": {},
   "outputs": [
    {
     "data": {
      "image/png": "[encoded data removed]",
      "text/plain": [
       "<Figure size 432x288 with 1 Axes>"
      ]
     },
     "metadata": {},
     "output_type": "display_data"
    }
   ],
   "source": [
    "%matplotlib inline\n",
    "from mplsoccer import Pitch\n",
    "import matplotlib.pyplot as plt\n",
    "\n",
    "xs,ys =[],[]\n",
    "for pd in player_detections[700]:\n",
    "    xs.append(pd.py)\n",
    "    ys.append(pd.px)\n",
    "\n",
    "pitch = Pitch(pitch_color='black', line_color=(.3,.3,.3), pitch_type='custom', pitch_length=105, pitch_width=68) \n",
    "fig, ax = pitch.draw()\n",
    "plt.scatter(xs, ys, color='deeppink')\n",
    "plt.show()"
   ]
  },
  {
   "cell_type": "code",
   "execution_count": 12,
   "metadata": {},
   "outputs": [
    {
     "data": {
      "text/html": [
       "<pre style=\"white-space:pre;overflow-x:auto;line-height:normal;font-family:Menlo,'DejaVu Sans Mono',consolas,'Courier New',monospace\">left\n",
       "</pre>\n"
      ],
      "text/plain": [
       "left\n"
      ]
     },
     "metadata": {},
     "output_type": "display_data"
    },
    {
     "data": {
      "text/html": [
       "<pre style=\"white-space:pre;overflow-x:auto;line-height:normal;font-family:Menlo,'DejaVu Sans Mono',consolas,'Courier New',monospace\">left\n",
       "</pre>\n"
      ],
      "text/plain": [
       "left\n"
      ]
     },
     "metadata": {},
     "output_type": "display_data"
    },
    {
     "data": {
      "text/html": [
       "<pre style=\"white-space:pre;overflow-x:auto;line-height:normal;font-family:Menlo,'DejaVu Sans Mono',consolas,'Courier New',monospace\">left\n",
       "</pre>\n"
      ],
      "text/plain": [
       "left\n"
      ]
     },
     "metadata": {},
     "output_type": "display_data"
    },
    {
     "data": {
      "text/html": [
       "<pre style=\"white-space:pre;overflow-x:auto;line-height:normal;font-family:Menlo,'DejaVu Sans Mono',consolas,'Courier New',monospace\">left\n",
       "</pre>\n"
      ],
      "text/plain": [
       "left\n"
      ]
     },
     "metadata": {},
     "output_type": "display_data"
    },
    {
     "data": {
      "text/html": [
       "<pre style=\"white-space:pre;overflow-x:auto;line-height:normal;font-family:Menlo,'DejaVu Sans Mono',consolas,'Courier New',monospace\">left\n",
       "</pre>\n"
      ],
      "text/plain": [
       "left\n"
      ]
     },
     "metadata": {},
     "output_type": "display_data"
    },
    {
     "data": {
      "text/html": [
       "<pre style=\"white-space:pre;overflow-x:auto;line-height:normal;font-family:Menlo,'DejaVu Sans Mono',consolas,'Courier New',monospace\">left\n",
       "</pre>\n"
      ],
      "text/plain": [
       "left\n"
      ]
     },
     "metadata": {},
     "output_type": "display_data"
    },
    {
     "data": {
      "text/html": [
       "<pre style=\"white-space:pre;overflow-x:auto;line-height:normal;font-family:Menlo,'DejaVu Sans Mono',consolas,'Courier New',monospace\">left\n",
       "</pre>\n"
      ],
      "text/plain": [
       "left\n"
      ]
     },
     "metadata": {},
     "output_type": "display_data"
    },
    {
     "data": {
      "text/html": [
       "<pre style=\"white-space:pre;overflow-x:auto;line-height:normal;font-family:Menlo,'DejaVu Sans Mono',consolas,'Courier New',monospace\">left\n",
       "</pre>\n"
      ],
      "text/plain": [
       "left\n"
      ]
     },
     "metadata": {},
     "output_type": "display_data"
    },
    {
     "data": {
      "text/html": [
       "<pre style=\"white-space:pre;overflow-x:auto;line-height:normal;font-family:Menlo,'DejaVu Sans Mono',consolas,'Courier New',monospace\">left\n",
       "</pre>\n"
      ],
      "text/plain": [
       "left\n"
      ]
     },
     "metadata": {},
     "output_type": "display_data"
    },
    {
     "data": {
      "text/html": [
       "<pre style=\"white-space:pre;overflow-x:auto;line-height:normal;font-family:Menlo,'DejaVu Sans Mono',consolas,'Courier New',monospace\">left\n",
       "</pre>\n"
      ],
      "text/plain": [
       "left\n"
      ]
     },
     "metadata": {},
     "output_type": "display_data"
    },
    {
     "data": {
      "text/html": [
       "<pre style=\"white-space:pre;overflow-x:auto;line-height:normal;font-family:Menlo,'DejaVu Sans Mono',consolas,'Courier New',monospace\">left\n",
       "</pre>\n"
      ],
      "text/plain": [
       "left\n"
      ]
     },
     "metadata": {},
     "output_type": "display_data"
    },
    {
     "data": {
      "text/html": [
       "<pre style=\"white-space:pre;overflow-x:auto;line-height:normal;font-family:Menlo,'DejaVu Sans Mono',consolas,'Courier New',monospace\">left\n",
       "</pre>\n"
      ],
      "text/plain": [
       "left\n"
      ]
     },
     "metadata": {},
     "output_type": "display_data"
    },
    {
     "data": {
      "text/html": [
       "<pre style=\"white-space:pre;overflow-x:auto;line-height:normal;font-family:Menlo,'DejaVu Sans Mono',consolas,'Courier New',monospace\">left\n",
       "</pre>\n"
      ],
      "text/plain": [
       "left\n"
      ]
     },
     "metadata": {},
     "output_type": "display_data"
    },
    {
     "data": {
      "text/html": [
       "<pre style=\"white-space:pre;overflow-x:auto;line-height:normal;font-family:Menlo,'DejaVu Sans Mono',consolas,'Courier New',monospace\">left\n",
       "</pre>\n"
      ],
      "text/plain": [
       "left\n"
      ]
     },
     "metadata": {},
     "output_type": "display_data"
    },
    {
     "data": {
      "text/html": [
       "<pre style=\"white-space:pre;overflow-x:auto;line-height:normal;font-family:Menlo,'DejaVu Sans Mono',consolas,'Courier New',monospace\">left\n",
       "</pre>\n"
      ],
      "text/plain": [
       "left\n"
      ]
     },
     "metadata": {},
     "output_type": "display_data"
    },
    {
     "data": {
      "text/html": [
       "<pre style=\"white-space:pre;overflow-x:auto;line-height:normal;font-family:Menlo,'DejaVu Sans Mono',consolas,'Courier New',monospace\">left\n",
       "</pre>\n"
      ],
      "text/plain": [
       "left\n"
      ]
     },
     "metadata": {},
     "output_type": "display_data"
    },
    {
     "data": {
      "text/html": [
       "<pre style=\"white-space:pre;overflow-x:auto;line-height:normal;font-family:Menlo,'DejaVu Sans Mono',consolas,'Courier New',monospace\">left\n",
       "</pre>\n"
      ],
      "text/plain": [
       "left\n"
      ]
     },
     "metadata": {},
     "output_type": "display_data"
    },
    {
     "data": {
      "text/html": [
       "<pre style=\"white-space:pre;overflow-x:auto;line-height:normal;font-family:Menlo,'DejaVu Sans Mono',consolas,'Courier New',monospace\">left\n",
       "</pre>\n"
      ],
      "text/plain": [
       "left\n"
      ]
     },
     "metadata": {},
     "output_type": "display_data"
    },
    {
     "data": {
      "text/html": [
       "<pre style=\"white-space:pre;overflow-x:auto;line-height:normal;font-family:Menlo,'DejaVu Sans Mono',consolas,'Courier New',monospace\">left\n",
       "</pre>\n"
      ],
      "text/plain": [
       "left\n"
      ]
     },
     "metadata": {},
     "output_type": "display_data"
    },
    {
     "data": {
      "text/html": [
       "<pre style=\"white-space:pre;overflow-x:auto;line-height:normal;font-family:Menlo,'DejaVu Sans Mono',consolas,'Courier New',monospace\">left\n",
       "</pre>\n"
      ],
      "text/plain": [
       "left\n"
      ]
     },
     "metadata": {},
     "output_type": "display_data"
    },
    {
     "data": {
      "text/html": [
       "<pre style=\"white-space:pre;overflow-x:auto;line-height:normal;font-family:Menlo,'DejaVu Sans Mono',consolas,'Courier New',monospace\">left\n",
       "</pre>\n"
      ],
      "text/plain": [
       "left\n"
      ]
     },
     "metadata": {},
     "output_type": "display_data"
    },
    {
     "data": {
      "text/html": [
       "<pre style=\"white-space:pre;overflow-x:auto;line-height:normal;font-family:Menlo,'DejaVu Sans Mono',consolas,'Courier New',monospace\">right\n",
       "</pre>\n"
      ],
      "text/plain": [
       "right\n"
      ]
     },
     "metadata": {},
     "output_type": "display_data"
    },
    {
     "data": {
      "text/html": [
       "<pre style=\"white-space:pre;overflow-x:auto;line-height:normal;font-family:Menlo,'DejaVu Sans Mono',consolas,'Courier New',monospace\">right\n",
       "</pre>\n"
      ],
      "text/plain": [
       "right\n"
      ]
     },
     "metadata": {},
     "output_type": "display_data"
    },
    {
     "data": {
      "text/html": [
       "<pre style=\"white-space:pre;overflow-x:auto;line-height:normal;font-family:Menlo,'DejaVu Sans Mono',consolas,'Courier New',monospace\">right\n",
       "</pre>\n"
      ],
      "text/plain": [
       "right\n"
      ]
     },
     "metadata": {},
     "output_type": "display_data"
    },
    {
     "data": {
      "text/html": [
       "<pre style=\"white-space:pre;overflow-x:auto;line-height:normal;font-family:Menlo,'DejaVu Sans Mono',consolas,'Courier New',monospace\">right\n",
       "</pre>\n"
      ],
      "text/plain": [
       "right\n"
      ]
     },
     "metadata": {},
     "output_type": "display_data"
    },
    {
     "data": {
      "text/html": [
       "<pre style=\"white-space:pre;overflow-x:auto;line-height:normal;font-family:Menlo,'DejaVu Sans Mono',consolas,'Courier New',monospace\">right\n",
       "</pre>\n"
      ],
      "text/plain": [
       "right\n"
      ]
     },
     "metadata": {},
     "output_type": "display_data"
    },
    {
     "data": {
      "text/html": [
       "<pre style=\"white-space:pre;overflow-x:auto;line-height:normal;font-family:Menlo,'DejaVu Sans Mono',consolas,'Courier New',monospace\">right\n",
       "</pre>\n"
      ],
      "text/plain": [
       "right\n"
      ]
     },
     "metadata": {},
     "output_type": "display_data"
    },
    {
     "data": {
      "text/html": [
       "<pre style=\"white-space:pre;overflow-x:auto;line-height:normal;font-family:Menlo,'DejaVu Sans Mono',consolas,'Courier New',monospace\">right\n",
       "</pre>\n"
      ],
      "text/plain": [
       "right\n"
      ]
     },
     "metadata": {},
     "output_type": "display_data"
    },
    {
     "data": {
      "text/html": [
       "<pre style=\"white-space:pre;overflow-x:auto;line-height:normal;font-family:Menlo,'DejaVu Sans Mono',consolas,'Courier New',monospace\">right\n",
       "</pre>\n"
      ],
      "text/plain": [
       "right\n"
      ]
     },
     "metadata": {},
     "output_type": "display_data"
    },
    {
     "data": {
      "text/html": [
       "<pre style=\"white-space:pre;overflow-x:auto;line-height:normal;font-family:Menlo,'DejaVu Sans Mono',consolas,'Courier New',monospace\">right\n",
       "</pre>\n"
      ],
      "text/plain": [
       "right\n"
      ]
     },
     "metadata": {},
     "output_type": "display_data"
    },
    {
     "data": {
      "text/html": [
       "<pre style=\"white-space:pre;overflow-x:auto;line-height:normal;font-family:Menlo,'DejaVu Sans Mono',consolas,'Courier New',monospace\">right\n",
       "</pre>\n"
      ],
      "text/plain": [
       "right\n"
      ]
     },
     "metadata": {},
     "output_type": "display_data"
    },
    {
     "data": {
      "text/html": [
       "<pre style=\"white-space:pre;overflow-x:auto;line-height:normal;font-family:Menlo,'DejaVu Sans Mono',consolas,'Courier New',monospace\">right\n",
       "</pre>\n"
      ],
      "text/plain": [
       "right\n"
      ]
     },
     "metadata": {},
     "output_type": "display_data"
    },
    {
     "data": {
      "text/html": [
       "<pre style=\"white-space:pre;overflow-x:auto;line-height:normal;font-family:Menlo,'DejaVu Sans Mono',consolas,'Courier New',monospace\">right\n",
       "</pre>\n"
      ],
      "text/plain": [
       "right\n"
      ]
     },
     "metadata": {},
     "output_type": "display_data"
    },
    {
     "data": {
      "text/html": [
       "<pre style=\"white-space:pre;overflow-x:auto;line-height:normal;font-family:Menlo,'DejaVu Sans Mono',consolas,'Courier New',monospace\">right\n",
       "</pre>\n"
      ],
      "text/plain": [
       "right\n"
      ]
     },
     "metadata": {},
     "output_type": "display_data"
    },
    {
     "data": {
      "text/html": [
       "<pre style=\"white-space:pre;overflow-x:auto;line-height:normal;font-family:Menlo,'DejaVu Sans Mono',consolas,'Courier New',monospace\">right\n",
       "</pre>\n"
      ],
      "text/plain": [
       "right\n"
      ]
     },
     "metadata": {},
     "output_type": "display_data"
    },
    {
     "data": {
      "text/html": [
       "<pre style=\"white-space:pre;overflow-x:auto;line-height:normal;font-family:Menlo,'DejaVu Sans Mono',consolas,'Courier New',monospace\">right\n",
       "</pre>\n"
      ],
      "text/plain": [
       "right\n"
      ]
     },
     "metadata": {},
     "output_type": "display_data"
    },
    {
     "data": {
      "text/html": [
       "<pre style=\"white-space:pre;overflow-x:auto;line-height:normal;font-family:Menlo,'DejaVu Sans Mono',consolas,'Courier New',monospace\">right\n",
       "</pre>\n"
      ],
      "text/plain": [
       "right\n"
      ]
     },
     "metadata": {},
     "output_type": "display_data"
    },
    {
     "data": {
      "text/html": [
       "<pre style=\"white-space:pre;overflow-x:auto;line-height:normal;font-family:Menlo,'DejaVu Sans Mono',consolas,'Courier New',monospace\">right\n",
       "</pre>\n"
      ],
      "text/plain": [
       "right\n"
      ]
     },
     "metadata": {},
     "output_type": "display_data"
    },
    {
     "data": {
      "text/html": [
       "<pre style=\"white-space:pre;overflow-x:auto;line-height:normal;font-family:Menlo,'DejaVu Sans Mono',consolas,'Courier New',monospace\">right\n",
       "</pre>\n"
      ],
      "text/plain": [
       "right\n"
      ]
     },
     "metadata": {},
     "output_type": "display_data"
    },
    {
     "data": {
      "text/html": [
       "<pre style=\"white-space:pre;overflow-x:auto;line-height:normal;font-family:Menlo,'DejaVu Sans Mono',consolas,'Courier New',monospace\">right\n",
       "</pre>\n"
      ],
      "text/plain": [
       "right\n"
      ]
     },
     "metadata": {},
     "output_type": "display_data"
    },
    {
     "data": {
      "text/html": [
       "<pre style=\"white-space:pre;overflow-x:auto;line-height:normal;font-family:Menlo,'DejaVu Sans Mono',consolas,'Courier New',monospace\">right\n",
       "</pre>\n"
      ],
      "text/plain": [
       "right\n"
      ]
     },
     "metadata": {},
     "output_type": "display_data"
    },
    {
     "data": {
      "text/html": [
       "<pre style=\"white-space:pre;overflow-x:auto;line-height:normal;font-family:Menlo,'DejaVu Sans Mono',consolas,'Courier New',monospace\">right\n",
       "</pre>\n"
      ],
      "text/plain": [
       "right\n"
      ]
     },
     "metadata": {},
     "output_type": "display_data"
    }
   ],
   "source": [
    "for pd in player_detections[100]:\n",
    "    print(pd.camera.label)\n",
    "    "
   ]
  },
  {
   "cell_type": "code",
   "execution_count": null,
   "metadata": {},
   "outputs": [],
   "source": []
  }
 ],
 "metadata": {
  "interpreter": {
   "hash": "47bcc98a91e0639070087bf2bbd0f353a7498108652c8107efb5221696e92166"
  },
  "kernelspec": {
   "display_name": "Python 3.8.12 64-bit ('base_atom': conda)",
   "language": "python",
   "name": "python3"
  },
  "language_info": {
   "codemirror_mode": {
    "name": "ipython",
    "version": 3
   },
   "file_extension": ".py",
   "mimetype": "text/x-python",
   "name": "python",
   "nbconvert_exporter": "python",
   "pygments_lexer": "ipython3",
   "version": "3.8.12"
  },
  "orig_nbformat": 4
 },
 "nbformat": 4,
 "nbformat_minor": 2
}
