{
 "cells": [
  {
   "cell_type": "code",
   "execution_count": 5,
   "id": "098e26d5-8f9b-4984-af2b-ca8a4eca6321",
   "metadata": {},
   "outputs": [
    {
     "name": "stdout",
     "output_type": "stream",
     "text": [
      "\u001b[0m\u001b[01;34mdata\u001b[0m/  \u001b[01;34mnotebooks\u001b[0m/  \u001b[01;34mSoccerTrack\u001b[0m/\n"
     ]
    }
   ],
   "source": [
    "ls ../"
   ]
  },
  {
   "cell_type": "code",
   "execution_count": 7,
   "id": "487c1ae3-aaa7-4d42-9a3e-a890d0d15f96",
   "metadata": {},
   "outputs": [
    {
     "data": {
      "application/vnd.jupyter.widget-view+json": {
       "model_id": "13d4278fc8764e80a6fc22d5d03464e9",
       "version_major": 2,
       "version_minor": 0
      },
      "text/plain": [
       "  0%|          | 0/456 [00:00<?, ?it/s]"
      ]
     },
     "metadata": {},
     "output_type": "display_data"
    },
    {
     "data": {
      "application/vnd.jupyter.widget-view+json": {
       "model_id": "a3b549a2a35a4a04861610a997f07b4e",
       "version_major": 2,
       "version_minor": 0
      },
      "text/plain": [
       "  0%|          | 0/267 [00:00<?, ?it/s]"
      ]
     },
     "metadata": {},
     "output_type": "display_data"
    },
    {
     "data": {
      "application/vnd.jupyter.widget-view+json": {
       "model_id": "9d10b54405a041bdb619f73ba16ecd28",
       "version_major": 2,
       "version_minor": 0
      },
      "text/plain": [
       "  0%|          | 0/3498 [00:00<?, ?it/s]"
      ]
     },
     "metadata": {},
     "output_type": "display_data"
    },
    {
     "name": "stdout",
     "output_type": "stream",
     "text": [
      "\u001b[36m\u001b[1mfind_intrinsic_camera_parameters:483\u001b[0m\u001b[36m\t💬\u001b[0m| Too many (88) checkerboards found. Selecting 50.\n"
     ]
    }
   ],
   "source": [
    "import glob\n",
    "from soccertrack.utils.camera import find_intrinsic_camera_parameters\n",
    "\n",
    "files = list(glob.glob('../data/checkerboard_videos/*.MP4'))\n",
    "camera_matrix, distortion_coefficients=find_intrinsic_camera_parameters(\n",
    "    files, \n",
    "    fps=1, \n",
    "    s=10, \n",
    "    save_path='.', \n",
    "    draw_on_save=False\n",
    ")"
   ]
  },
  {
   "cell_type": "code",
   "execution_count": 10,
   "id": "84a7eb12-25ee-4821-80c5-39903f48d38d",
   "metadata": {},
   "outputs": [
    {
     "name": "stderr",
     "output_type": "stream",
     "text": [
      "OpenCV: FFMPEG: tag 0x47504a4d/'MJPG' is not supported with codec id 7 and format 'mp4 / MP4 (MPEG-4 Part 14)'\n",
      "OpenCV: FFMPEG: fallback to use tag 0x7634706d/'mp4v'\n"
     ]
    },
    {
     "name": "stdout",
     "output_type": "stream",
     "text": [
      "0\r"
     ]
    }
   ],
   "source": [
    "import cv2 as cv\n",
    "from tqdm.auto import tqdm\n",
    "\n",
    "mtx = camera_matrix\n",
    "dist = distortion_coefficients\n",
    "w = 7680\n",
    "h = 4320\n",
    "\n",
    "for vid in files:\n",
    "    cap = cv.VideoCapture(vid)\n",
    "\n",
    "    out = cv.VideoWriter('undistort.mp4',cv.VideoWriter_fourcc('M','J','P','G'), 25, (w, h))\n",
    "\n",
    "    newcameramtx, roi = cv.getOptimalNewCameraMatrix(mtx, dist, (w, h), 1, (w, h))\n",
    "\n",
    "    i = 0\n",
    "    while(cap.isOpened()):\n",
    "        ret, frame = cap.read()\n",
    "        cv.imwrite('im_before.png', frame)\n",
    "        if ret == True:\n",
    "\n",
    "            dst = cv.undistort(frame, mtx, dist, None, newcameramtx)\n",
    "            x, y, w, h = roi\n",
    "            dst = dst[y : y + h, x : x + w]\n",
    "\n",
    "            out.write(dst)\n",
    "        else:\n",
    "            break\n",
    "        cv.imwrite('im_after.png', dst)\n",
    "        print(i, end='\\r')\n",
    "        i += 1\n",
    "        break\n",
    "\n",
    "    cap.release()\n",
    "    out.release()\n",
    "    break"
   ]
  }
 ],
 "metadata": {
  "kernelspec": {
   "display_name": "Python 3 (ipykernel)",
   "language": "python",
   "name": "python3"
  },
  "language_info": {
   "codemirror_mode": {
    "name": "ipython",
    "version": 3
   },
   "file_extension": ".py",
   "mimetype": "text/x-python",
   "name": "python",
   "nbconvert_exporter": "python",
   "pygments_lexer": "ipython3",
   "version": "3.8.10"
  }
 },
 "nbformat": 4,
 "nbformat_minor": 5
}
