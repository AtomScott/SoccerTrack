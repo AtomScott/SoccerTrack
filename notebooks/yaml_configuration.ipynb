{
 "cells": [
  {
   "cell_type": "code",
   "execution_count": 1,
   "metadata": {},
   "outputs": [
    {
     "name": "stdout",
     "output_type": "stream",
     "text": [
      "cameras:\n",
      "- label: left\n",
      "  video_path: ../../data/raw/left_camera.mp4\n",
      "  keypoint_xml: ../../data/raw/left_keypoints.xml\n",
      "  calibration_video_path: ../../data/raw/left_checkerboard_images/\n",
      "  x_range:\n",
      "  - 0\n",
      "  - 52.5\n",
      "  y_range:\n",
      "  - 0\n",
      "  - 68\n",
      "  camera_matrix: null\n",
      "  camera_matrix_path: null\n",
      "  distortion_coefficients: null\n",
      "  distortion_coefficients_path: null\n",
      "- label: right\n",
      "  video_path: ../../data/raw/right_camera.mp4\n",
      "  keypoint_xml: ../../data/raw/right_keypoints.xml\n",
      "  calibration_video_path: ../../data/raw/right_checkerboard_images/\n",
      "  x_range:\n",
      "  - 52.5\n",
      "  - 105\n",
      "  y_range:\n",
      "  - 0\n",
      "  - 68\n",
      "  camera_matrix: null\n",
      "  camera_matrix_path: null\n",
      "  distortion_coefficients: null\n",
      "  distortion_coefficients_path:  null\n",
      "detection:\n",
      "  model_name: yolov5x\n",
      "  size: 3000\n",
      "  batch_size: 32\n",
      "outdir: ../../data/processed/\n",
      "\n"
     ]
    }
   ],
   "source": [
    "yaml_file = \"./detect_and_track/detect_and_track.yaml\"\n",
    "\n",
    "with open(yaml_file, \"r\") as f:\n",
    "    print(''.join(f.readlines()))"
   ]
  }
 ],
 "metadata": {
  "interpreter": {
   "hash": "47bcc98a91e0639070087bf2bbd0f353a7498108652c8107efb5221696e92166"
  },
  "kernelspec": {
   "display_name": "Python 3.8.12 64-bit ('base_atom': conda)",
   "language": "python",
   "name": "python3"
  },
  "language_info": {
   "codemirror_mode": {
    "name": "ipython",
    "version": 3
   },
   "file_extension": ".py",
   "mimetype": "text/x-python",
   "name": "python",
   "nbconvert_exporter": "python",
   "pygments_lexer": "ipython3",
   "version": "3.8.12"
  },
  "orig_nbformat": 4
 },
 "nbformat": 4,
 "nbformat_minor": 2
}
